{
 "cells": [
  {
   "cell_type": "markdown",
   "id": "dc8dcdf4",
   "metadata": {},
   "source": [
    "### <font color=\"orange\"> Control Flow </font>\n",
    "##### Welcome to this lesson on Control Flow! Control flow is the sequence in which your code is run. Here, we'll learn about several tools in Python we can use to affect our code's control flow:\n",
    "\n",
    "- Conditional Statements\n",
    "- Boolean Expressions\n",
    "- For and While Loops\n",
    "- Break and Continue\n",
    "- Zip and Enumerate\n",
    "- List Comprehensions"
   ]
  },
  {
   "cell_type": "markdown",
   "id": "7fb6cdc2",
   "metadata": {},
   "source": [
    "### <font color=\"orange\"> Conditional Statement </font>"
   ]
  },
  {
   "cell_type": "code",
   "execution_count": 1,
   "id": "4590b295",
   "metadata": {},
   "outputs": [
    {
     "name": "stdout",
     "output_type": "stream",
     "text": [
      "8 100\n",
      "8 100\n"
     ]
    }
   ],
   "source": [
    "# learning the if statements\n",
    "\n",
    "phone_bal = 8\n",
    "bank_bal = 100\n",
    "\n",
    "print(phone_bal, bank_bal)\n",
    "\n",
    "if phone_bal < 5 :\n",
    "    phone_bal += 10\n",
    "    bank_bal -= 10\n",
    "    \n",
    "print(phone_bal, bank_bal)"
   ]
  },
  {
   "cell_type": "markdown",
   "id": "a6ffb1cf",
   "metadata": {},
   "source": [
    "this is the first line.  \n",
    "this is the second line"
   ]
  },
  {
   "cell_type": "code",
   "execution_count": 2,
   "id": "015bc7c2",
   "metadata": {},
   "outputs": [
    {
     "name": "stdout",
     "output_type": "stream",
     "text": [
      "8 100\n",
      "13 95\n"
     ]
    }
   ],
   "source": [
    "# learning the elif statement\n",
    "\n",
    "phone_bal = 8\n",
    "bank_bal = 100\n",
    "\n",
    "print(phone_bal, bank_bal)\n",
    "\n",
    "if phone_bal < 5:\n",
    "    phone_bal += 10\n",
    "    bank_bal -= 10\n",
    "elif phone_bal < 10:\n",
    "    phone_bal += 5\n",
    "    bank_bal -= 5\n",
    "elif phone_bal == 10:\n",
    "    phone_bal += 2\n",
    "    bank_bal -= 2\n",
    "\n",
    "print(phone_bal, bank_bal)"
   ]
  },
  {
   "cell_type": "code",
   "execution_count": 3,
   "id": "05e9fa42",
   "metadata": {},
   "outputs": [
    {
     "name": "stdout",
     "output_type": "stream",
     "text": [
      "Somebody of age 38 will pay a ticket proce of 2.5 for the bus\n"
     ]
    }
   ],
   "source": [
    "# example to learn control flow\n",
    "\n",
    "age = 38\n",
    "\n",
    "# Here are the age limits for bus fares\n",
    "free_up_to_age = 4\n",
    "child_up_to_age = 18\n",
    "senior_from_age = 65\n",
    "\n",
    "# These lines determine the bus fare prices\n",
    "concession_ticket = 1.25\n",
    "adult_ticket = 2.50\n",
    "\n",
    "if age <= free_up_to_age:\n",
    "    ticket = 0\n",
    "elif age >= senior_from_age:\n",
    "    ticket = 0\n",
    "elif age <= child_up_to_age:\n",
    "    ticket = concession_ticket\n",
    "else:\n",
    "    ticket = adult_ticket\n",
    "\n",
    "message = \"Somebody of age {} will pay a ticket proce of {} for the bus\".format(age,ticket)\n",
    "\n",
    "print(message)"
   ]
  },
  {
   "cell_type": "markdown",
   "id": "229e22ee",
   "metadata": {},
   "source": [
    "#### Exercise\n",
    "\n",
    "Write an if statement that lets a competitor know which of these prizes they won based on the number of points they scored, which is stored in the integer variable points.\n",
    "\n",
    "| Points | Prize |\n",
    "| --- | --- |\n",
    "| 1 - 50 | wooden rabbit |\n",
    "| 51 - 150 | no prize |\n",
    "| 151 - 180 | wafer-thin mint |\n",
    "| 181 - 200 | penguin |"
   ]
  },
  {
   "cell_type": "code",
   "execution_count": 4,
   "id": "5d21d695",
   "metadata": {},
   "outputs": [
    {
     "name": "stdout",
     "output_type": "stream",
     "text": [
      "179\n"
     ]
    }
   ],
   "source": [
    "import random\n",
    "points = random.randint(1, 200)\n",
    "\n",
    "print(points)"
   ]
  },
  {
   "cell_type": "code",
   "execution_count": 9,
   "id": "7d84aecb",
   "metadata": {},
   "outputs": [
    {
     "name": "stdout",
     "output_type": "stream",
     "text": [
      "11\n",
      "congratulations! you have won a wooden rabbit\n"
     ]
    }
   ],
   "source": [
    "import random\n",
    "points = random.randint(1, 200)\n",
    "\n",
    "print(points)\n",
    "\n",
    "if points <= 50:\n",
    "    message = \"congratulations! you have won a {}\".format(\"wooden rabbit\")\n",
    "elif points <= 150:\n",
    "    message = \"Oh dear, no prize this time.\"\n",
    "elif points <= 180:\n",
    "    message = \"congratulations! you have won a {}\".format(\"wafer-thin mint\")\n",
    "else:\n",
    "    message = \"congratulations! you have won a {}\".format(\"penguin\")\n",
    "\n",
    "print(message)\n",
    "    "
   ]
  },
  {
   "cell_type": "markdown",
   "id": "4a5940d6",
   "metadata": {},
   "source": [
    "#### '''\n",
    "#### Depending on where an individual is from we need to tax them \n",
    "#### appropriately.  The states of CA, MN, and \n",
    "#### NY have taxes of 7.5%, 9.5%, and 8.9% respectively.\n",
    "#### Use this information to take the amount of a purchase and \n",
    "#### the corresponding state to assure that they are taxed by the right\n",
    "#### amount.\n",
    "#### '''"
   ]
  },
  {
   "cell_type": "code",
   "execution_count": 14,
   "id": "ffbd8f1e",
   "metadata": {},
   "outputs": [
    {
     "name": "stdout",
     "output_type": "stream",
     "text": [
      "country of purchase is:  INDIA\n",
      "since you are from INDIA, your final purchase amount is 108.0\n"
     ]
    }
   ],
   "source": [
    "import random\n",
    "\n",
    "countries =['UAE','INDIA','USA']\n",
    "\n",
    "purchase_amount = 100\n",
    "\n",
    "country = random.choice(countries)\n",
    "\n",
    "print('country of purchase is: ',country)\n",
    "\n",
    "if country == 'UAE':\n",
    "    tax = 0.05\n",
    "elif country == 'INDIA':\n",
    "    tax = 0.08\n",
    "elif country == 'USA':\n",
    "    tax = 0.09\n",
    "else:\n",
    "    tax = 0.06\n",
    "\n",
    "result = \"since you are from {}, your final purchase amount is {}\".format(country, round(purchase_amount*(1+tax),1))\n",
    "\n",
    "print(result)"
   ]
  },
  {
   "cell_type": "markdown",
   "id": "c9b86d80",
   "metadata": {},
   "source": [
    "### <font color=\"orange\"> Boolean Expressions for Conditions </font>"
   ]
  },
  {
   "cell_type": "code",
   "execution_count": null,
   "id": "a7c4eb99",
   "metadata": {},
   "outputs": [],
   "source": []
  }
 ],
 "metadata": {
  "kernelspec": {
   "display_name": "Python 3 (ipykernel)",
   "language": "python",
   "name": "python3"
  },
  "language_info": {
   "codemirror_mode": {
    "name": "ipython",
    "version": 3
   },
   "file_extension": ".py",
   "mimetype": "text/x-python",
   "name": "python",
   "nbconvert_exporter": "python",
   "pygments_lexer": "ipython3",
   "version": "3.9.13"
  }
 },
 "nbformat": 4,
 "nbformat_minor": 5
}
