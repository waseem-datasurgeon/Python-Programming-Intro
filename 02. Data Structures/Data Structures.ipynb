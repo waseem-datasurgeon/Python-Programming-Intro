{
 "cells": [
  {
   "cell_type": "markdown",
   "id": "25db0590",
   "metadata": {},
   "source": [
    "### Concepts practiced:\n",
    "#### Types of Data Structures: Lists, Tuples, Sets, Dictionaries, Compound Data Structures\n",
    "#### Operators: Membership, Identity\n",
    "#### Built-In Functions or Methods"
   ]
  },
  {
   "cell_type": "markdown",
   "id": "d082d37d",
   "metadata": {},
   "source": [
    "#### <font color='orange'> List and Membership Operators </font>"
   ]
  },
  {
   "cell_type": "markdown",
   "id": "623709bc",
   "metadata": {},
   "source": [
    "#### Lists"
   ]
  },
  {
   "cell_type": "code",
   "execution_count": 2,
   "id": "2ec274e6",
   "metadata": {},
   "outputs": [],
   "source": [
    "months = ['January', 'February', 'March', 'April', 'May', 'June', 'July', 'August', 'September', 'October', 'November', 'December']"
   ]
  },
  {
   "cell_type": "code",
   "execution_count": 3,
   "id": "f602d048",
   "metadata": {},
   "outputs": [
    {
     "data": {
      "text/plain": [
       "'January'"
      ]
     },
     "execution_count": 3,
     "metadata": {},
     "output_type": "execute_result"
    }
   ],
   "source": [
    "months[0]"
   ]
  },
  {
   "cell_type": "code",
   "execution_count": 4,
   "id": "2c690b0b",
   "metadata": {},
   "outputs": [
    {
     "name": "stdout",
     "output_type": "stream",
     "text": [
      "May\n"
     ]
    }
   ],
   "source": [
    "print(months[4])"
   ]
  },
  {
   "cell_type": "code",
   "execution_count": 5,
   "id": "7ca5379d",
   "metadata": {},
   "outputs": [
    {
     "name": "stdout",
     "output_type": "stream",
     "text": [
      "December\n"
     ]
    }
   ],
   "source": [
    "print(months[-1])"
   ]
  },
  {
   "cell_type": "code",
   "execution_count": 7,
   "id": "96450db2",
   "metadata": {},
   "outputs": [
    {
     "name": "stdout",
     "output_type": "stream",
     "text": [
      "January\n"
     ]
    }
   ],
   "source": [
    "print(months[-0])"
   ]
  },
  {
   "cell_type": "code",
   "execution_count": 8,
   "id": "2f0ae41c",
   "metadata": {},
   "outputs": [
    {
     "ename": "IndexError",
     "evalue": "list index out of range",
     "output_type": "error",
     "traceback": [
      "\u001b[0;31m---------------------------------------------------------------------------\u001b[0m",
      "\u001b[0;31mIndexError\u001b[0m                                Traceback (most recent call last)",
      "\u001b[0;32m/var/folders/hj/8r8y28194blbb0cblvt8bvl80000gp/T/ipykernel_25267/1510447103.py\u001b[0m in \u001b[0;36m<module>\u001b[0;34m\u001b[0m\n\u001b[0;32m----> 1\u001b[0;31m \u001b[0mprint\u001b[0m\u001b[0;34m(\u001b[0m\u001b[0mmonths\u001b[0m\u001b[0;34m[\u001b[0m\u001b[0;36m25\u001b[0m\u001b[0;34m]\u001b[0m\u001b[0;34m)\u001b[0m\u001b[0;34m\u001b[0m\u001b[0;34m\u001b[0m\u001b[0m\n\u001b[0m",
      "\u001b[0;31mIndexError\u001b[0m: list index out of range"
     ]
    }
   ],
   "source": [
    "print(months[25])"
   ]
  },
  {
   "cell_type": "code",
   "execution_count": 11,
   "id": "dc9f00e5",
   "metadata": {},
   "outputs": [],
   "source": [
    "list_of_random_things = [1, 3.4, 'a string', True]"
   ]
  },
  {
   "cell_type": "code",
   "execution_count": 10,
   "id": "8df9ea4d",
   "metadata": {},
   "outputs": [
    {
     "data": {
      "text/plain": [
       "1"
      ]
     },
     "execution_count": 10,
     "metadata": {},
     "output_type": "execute_result"
    }
   ],
   "source": [
    "list_of_random_things[0]"
   ]
  },
  {
   "cell_type": "code",
   "execution_count": 11,
   "id": "37dc00e8",
   "metadata": {},
   "outputs": [
    {
     "ename": "IndexError",
     "evalue": "list index out of range",
     "output_type": "error",
     "traceback": [
      "\u001b[0;31m---------------------------------------------------------------------------\u001b[0m",
      "\u001b[0;31mIndexError\u001b[0m                                Traceback (most recent call last)",
      "\u001b[0;32m/var/folders/hj/8r8y28194blbb0cblvt8bvl80000gp/T/ipykernel_25267/1650404983.py\u001b[0m in \u001b[0;36m<module>\u001b[0;34m\u001b[0m\n\u001b[0;32m----> 1\u001b[0;31m \u001b[0mlist_of_random_things\u001b[0m\u001b[0;34m[\u001b[0m\u001b[0mlen\u001b[0m\u001b[0;34m(\u001b[0m\u001b[0mlist_of_random_things\u001b[0m\u001b[0;34m)\u001b[0m\u001b[0;34m]\u001b[0m\u001b[0;34m\u001b[0m\u001b[0;34m\u001b[0m\u001b[0m\n\u001b[0m",
      "\u001b[0;31mIndexError\u001b[0m: list index out of range"
     ]
    }
   ],
   "source": [
    "list_of_random_things[len(list_of_random_things)]"
   ]
  },
  {
   "cell_type": "code",
   "execution_count": 12,
   "id": "60029293",
   "metadata": {},
   "outputs": [
    {
     "data": {
      "text/plain": [
       "True"
      ]
     },
     "execution_count": 12,
     "metadata": {},
     "output_type": "execute_result"
    }
   ],
   "source": [
    "list_of_random_things[len(list_of_random_things)-1]"
   ]
  },
  {
   "cell_type": "code",
   "execution_count": 13,
   "id": "d3d65464",
   "metadata": {},
   "outputs": [
    {
     "name": "stdout",
     "output_type": "stream",
     "text": [
      "True\n",
      "a string\n"
     ]
    }
   ],
   "source": [
    "print(list_of_random_things[-1])\n",
    "print(list_of_random_things[-2])"
   ]
  },
  {
   "cell_type": "markdown",
   "id": "c078444b",
   "metadata": {},
   "source": [
    "#### slice and dice"
   ]
  },
  {
   "cell_type": "code",
   "execution_count": 3,
   "id": "f1633d60",
   "metadata": {},
   "outputs": [
    {
     "name": "stdout",
     "output_type": "stream",
     "text": [
      "['July', 'August', 'September']\n"
     ]
    }
   ],
   "source": [
    "q3 = months[6:9]\n",
    "print(q3) # [ 'July', 'August', 'September']"
   ]
  },
  {
   "cell_type": "code",
   "execution_count": 5,
   "id": "a6786f77",
   "metadata": {},
   "outputs": [
    {
     "name": "stdout",
     "output_type": "stream",
     "text": [
      "['January', 'February', 'March', 'April', 'May', 'June']\n"
     ]
    }
   ],
   "source": [
    "first_half = months[:6]\n",
    "print(first_half)"
   ]
  },
  {
   "cell_type": "code",
   "execution_count": 6,
   "id": "a81f87c7",
   "metadata": {},
   "outputs": [
    {
     "name": "stdout",
     "output_type": "stream",
     "text": [
      "['July', 'August', 'September', 'October', 'November', 'December']\n"
     ]
    }
   ],
   "source": [
    "second_half = months[6:]\n",
    "print(second_half)"
   ]
  },
  {
   "cell_type": "code",
   "execution_count": 10,
   "id": "46c66f9a",
   "metadata": {},
   "outputs": [
    {
     "name": "stdout",
     "output_type": "stream",
     "text": [
      "<class 'list'> 12\n"
     ]
    }
   ],
   "source": [
    "print(type(months),len(months))"
   ]
  },
  {
   "cell_type": "code",
   "execution_count": 9,
   "id": "4882bb22",
   "metadata": {},
   "outputs": [
    {
     "name": "stdout",
     "output_type": "stream",
     "text": [
      "<class 'str'> 12\n"
     ]
    }
   ],
   "source": [
    "greeting = \"Good Morning\"\n",
    "print(type(greeting),len(greeting))"
   ]
  },
  {
   "cell_type": "code",
   "execution_count": 12,
   "id": "ba41beff",
   "metadata": {},
   "outputs": [
    {
     "data": {
      "text/plain": [
       "[3.4]"
      ]
     },
     "execution_count": 12,
     "metadata": {},
     "output_type": "execute_result"
    }
   ],
   "source": [
    "list_of_random_things[1:2]"
   ]
  },
  {
   "cell_type": "code",
   "execution_count": 13,
   "id": "ddc64af0",
   "metadata": {},
   "outputs": [
    {
     "data": {
      "text/plain": [
       "[1, 3.4]"
      ]
     },
     "execution_count": 13,
     "metadata": {},
     "output_type": "execute_result"
    }
   ],
   "source": [
    "list_of_random_things[:2]"
   ]
  },
  {
   "cell_type": "code",
   "execution_count": 14,
   "id": "47406cd0",
   "metadata": {},
   "outputs": [
    {
     "data": {
      "text/plain": [
       "[3.4, 'a string', True]"
      ]
     },
     "execution_count": 14,
     "metadata": {},
     "output_type": "execute_result"
    }
   ],
   "source": [
    "list_of_random_things[1:]"
   ]
  },
  {
   "cell_type": "markdown",
   "id": "7c73b0c5",
   "metadata": {},
   "source": [
    "#### \"in\" or \"not in\""
   ]
  },
  {
   "cell_type": "code",
   "execution_count": 15,
   "id": "40c42026",
   "metadata": {},
   "outputs": [
    {
     "data": {
      "text/plain": [
       "True"
      ]
     },
     "execution_count": 15,
     "metadata": {},
     "output_type": "execute_result"
    }
   ],
   "source": [
    "\"This\" in \"This is a string\""
   ]
  },
  {
   "cell_type": "code",
   "execution_count": 16,
   "id": "05e77815",
   "metadata": {},
   "outputs": [
    {
     "data": {
      "text/plain": [
       "True"
      ]
     },
     "execution_count": 16,
     "metadata": {},
     "output_type": "execute_result"
    }
   ],
   "source": [
    "\"in\" in \"This is a string\""
   ]
  },
  {
   "cell_type": "code",
   "execution_count": 17,
   "id": "ecf7681f",
   "metadata": {},
   "outputs": [
    {
     "data": {
      "text/plain": [
       "False"
      ]
     },
     "execution_count": 17,
     "metadata": {},
     "output_type": "execute_result"
    }
   ],
   "source": [
    "\"isa\" in \"This is a string\""
   ]
  },
  {
   "cell_type": "code",
   "execution_count": 18,
   "id": "7e364b71",
   "metadata": {},
   "outputs": [
    {
     "data": {
      "text/plain": [
       "True"
      ]
     },
     "execution_count": 18,
     "metadata": {},
     "output_type": "execute_result"
    }
   ],
   "source": [
    "5 not in [1, 2, 3, 4, 6]"
   ]
  },
  {
   "cell_type": "code",
   "execution_count": 19,
   "id": "10f71752",
   "metadata": {},
   "outputs": [
    {
     "data": {
      "text/plain": [
       "False"
      ]
     },
     "execution_count": 19,
     "metadata": {},
     "output_type": "execute_result"
    }
   ],
   "source": [
    "5 in [1, 2, 3, 4, 6]"
   ]
  },
  {
   "cell_type": "markdown",
   "id": "83280109",
   "metadata": {},
   "source": [
    "### Mutability and Order"
   ]
  },
  {
   "cell_type": "code",
   "execution_count": 20,
   "id": "de1d4e10",
   "metadata": {},
   "outputs": [
    {
     "name": "stdout",
     "output_type": "stream",
     "text": [
      "[1, 2, 3, 4, 5]\n",
      "['one', 2, 3, 4, 5]\n"
     ]
    }
   ],
   "source": [
    "my_list = [1, 2, 3, 4, 5]\n",
    "print(my_list)\n",
    "my_list[0] = 'one'\n",
    "print(my_list)"
   ]
  },
  {
   "cell_type": "code",
   "execution_count": 22,
   "id": "9c998479",
   "metadata": {},
   "outputs": [
    {
     "name": "stdout",
     "output_type": "stream",
     "text": [
      "Hello There\n"
     ]
    },
    {
     "ename": "TypeError",
     "evalue": "'str' object does not support item assignment",
     "output_type": "error",
     "traceback": [
      "\u001b[0;31m---------------------------------------------------------------------------\u001b[0m",
      "\u001b[0;31mTypeError\u001b[0m                                 Traceback (most recent call last)",
      "\u001b[0;32m/var/folders/hj/8r8y28194blbb0cblvt8bvl80000gp/T/ipykernel_1619/2146538541.py\u001b[0m in \u001b[0;36m<module>\u001b[0;34m\u001b[0m\n\u001b[1;32m      1\u001b[0m \u001b[0mgreeting\u001b[0m \u001b[0;34m=\u001b[0m \u001b[0;34m\"Hello There\"\u001b[0m\u001b[0;34m\u001b[0m\u001b[0;34m\u001b[0m\u001b[0m\n\u001b[1;32m      2\u001b[0m \u001b[0mprint\u001b[0m\u001b[0;34m(\u001b[0m\u001b[0mgreeting\u001b[0m\u001b[0;34m)\u001b[0m\u001b[0;34m\u001b[0m\u001b[0;34m\u001b[0m\u001b[0m\n\u001b[0;32m----> 3\u001b[0;31m \u001b[0mgreeting\u001b[0m\u001b[0;34m[\u001b[0m\u001b[0;36m0\u001b[0m\u001b[0;34m]\u001b[0m\u001b[0;34m=\u001b[0m\u001b[0;34m\"h\"\u001b[0m\u001b[0;34m\u001b[0m\u001b[0;34m\u001b[0m\u001b[0m\n\u001b[0m\u001b[1;32m      4\u001b[0m \u001b[0mprint\u001b[0m\u001b[0;34m(\u001b[0m\u001b[0mgreeting\u001b[0m\u001b[0;34m)\u001b[0m\u001b[0;34m\u001b[0m\u001b[0;34m\u001b[0m\u001b[0m\n",
      "\u001b[0;31mTypeError\u001b[0m: 'str' object does not support item assignment"
     ]
    }
   ],
   "source": [
    "greeting = \"Hello There\"\n",
    "print(greeting)\n",
    "greeting[0]=\"h\"\n",
    "print(greeting)"
   ]
  },
  {
   "cell_type": "code",
   "execution_count": 23,
   "id": "7c914349",
   "metadata": {},
   "outputs": [
    {
     "name": "stdout",
     "output_type": "stream",
     "text": [
      "['November 13, 2012', 'March 20, 2015', 'March 9, 2016']\n"
     ]
    }
   ],
   "source": [
    "# Select the three most recent dates from this list using list slicing notation.\n",
    "eclipse_dates = ['June 21, 2001', 'December 4, 2002', 'November 23, 2003',\n",
    "                 'March 29, 2006', 'August 1, 2008', 'July 22, 2009',\n",
    "                 'July 11, 2010', 'November 13, 2012', 'March 20, 2015',\n",
    "                 'March 9, 2016']\n",
    "\n",
    "print(eclipse_dates[-3:])"
   ]
  },
  {
   "cell_type": "code",
   "execution_count": 24,
   "id": "d1244ee9",
   "metadata": {},
   "outputs": [],
   "source": [
    "sentence1 = \"I wish to register a complaint.\"\n",
    "sentence2 = [\"I\", \"wish\", \"to\", \"register\", \"a\", \"complaint\", \".\"]"
   ]
  },
  {
   "cell_type": "code",
   "execution_count": 26,
   "id": "ff53925b",
   "metadata": {},
   "outputs": [
    {
     "name": "stdout",
     "output_type": "stream",
     "text": [
      "['I', 'wish', 'to', 'register', 'a', 'complaint', '!']\n"
     ]
    }
   ],
   "source": [
    "sentence2[6]=\"!\"\n",
    "print(sentence2)"
   ]
  },
  {
   "cell_type": "code",
   "execution_count": 27,
   "id": "4cd88b68",
   "metadata": {},
   "outputs": [
    {
     "name": "stdout",
     "output_type": "stream",
     "text": [
      "['Our Majesty', 'wish', 'to', 'register', 'a', 'complaint', '!']\n"
     ]
    }
   ],
   "source": [
    "sentence2[0]= \"Our Majesty\"\n",
    "print(sentence2)"
   ]
  },
  {
   "cell_type": "code",
   "execution_count": 28,
   "id": "534e78b0",
   "metadata": {},
   "outputs": [
    {
     "ename": "TypeError",
     "evalue": "'str' object does not support item assignment",
     "output_type": "error",
     "traceback": [
      "\u001b[0;31m---------------------------------------------------------------------------\u001b[0m",
      "\u001b[0;31mTypeError\u001b[0m                                 Traceback (most recent call last)",
      "\u001b[0;32m/var/folders/hj/8r8y28194blbb0cblvt8bvl80000gp/T/ipykernel_1619/3966410211.py\u001b[0m in \u001b[0;36m<module>\u001b[0;34m\u001b[0m\n\u001b[0;32m----> 1\u001b[0;31m \u001b[0msentence1\u001b[0m\u001b[0;34m[\u001b[0m\u001b[0;36m30\u001b[0m\u001b[0;34m]\u001b[0m\u001b[0;34m=\u001b[0m\u001b[0;34m\"!\"\u001b[0m\u001b[0;34m\u001b[0m\u001b[0;34m\u001b[0m\u001b[0m\n\u001b[0m\u001b[1;32m      2\u001b[0m \u001b[0mprint\u001b[0m\u001b[0;34m(\u001b[0m\u001b[0msentence1\u001b[0m\u001b[0;34m)\u001b[0m\u001b[0;34m\u001b[0m\u001b[0;34m\u001b[0m\u001b[0m\n",
      "\u001b[0;31mTypeError\u001b[0m: 'str' object does not support item assignment"
     ]
    }
   ],
   "source": [
    "sentence1[30]=\"!\"\n",
    "print(sentence1)"
   ]
  },
  {
   "cell_type": "code",
   "execution_count": 29,
   "id": "a98719c9",
   "metadata": {},
   "outputs": [
    {
     "name": "stdout",
     "output_type": "stream",
     "text": [
      "['We', 'want', 'to', 'register', 'a', 'complaint', '!']\n"
     ]
    }
   ],
   "source": [
    "sentence2[0:2] = [\"We\", \"want\"]\n",
    "print(sentence2)"
   ]
  },
  {
   "cell_type": "markdown",
   "id": "7a419986",
   "metadata": {},
   "source": [
    "### List Methods"
   ]
  },
  {
   "cell_type": "code",
   "execution_count": 32,
   "id": "718f87a0",
   "metadata": {},
   "outputs": [
    {
     "name": "stdout",
     "output_type": "stream",
     "text": [
      "scores :  ['B', 'C', 'A', 'D', 'B', 'A']\n",
      "grades : ['B', 'C', 'A', 'D', 'B', 'A']\n"
     ]
    }
   ],
   "source": [
    "scores = [\"B\",\"C\",\"A\",\"D\",\"B\",\"A\"]\n",
    "grades = scores\n",
    "\n",
    "print (\"scores : \",scores)\n",
    "print (\"grades : \"+str(grades))"
   ]
  },
  {
   "cell_type": "code",
   "execution_count": 33,
   "id": "f6e4ebf6",
   "metadata": {},
   "outputs": [
    {
     "name": "stdout",
     "output_type": "stream",
     "text": [
      "scores : ['B', 'C', 'A', 'C', 'B', 'A']\n",
      "grades : ['B', 'C', 'A', 'C', 'B', 'A']\n"
     ]
    }
   ],
   "source": [
    "scores[3]=\"C\"\n",
    "\n",
    "print (\"scores : \"+str(scores))\n",
    "print (\"grades : \"+str(grades))"
   ]
  },
  {
   "cell_type": "code",
   "execution_count": 34,
   "id": "24717ed6",
   "metadata": {},
   "outputs": [],
   "source": [
    "nawaz_heritage = [\"Shahnawaz Kukkikatte\", \"Lubna Nawaz\", \"Sumaiah Nawaz\", \"Mohammed Shahbaz Nawaz\", \"Shehzad Mohammed Nawaz\"]"
   ]
  },
  {
   "cell_type": "code",
   "execution_count": 35,
   "id": "8cd727e5",
   "metadata": {},
   "outputs": [
    {
     "name": "stdout",
     "output_type": "stream",
     "text": [
      "5\n"
     ]
    }
   ],
   "source": [
    "print(len(nawaz_heritage))"
   ]
  },
  {
   "cell_type": "code",
   "execution_count": 36,
   "id": "574e89d4",
   "metadata": {},
   "outputs": [
    {
     "name": "stdout",
     "output_type": "stream",
     "text": [
      "Sumaiah Nawaz\n"
     ]
    }
   ],
   "source": [
    "print(max(nawaz_heritage))"
   ]
  },
  {
   "cell_type": "code",
   "execution_count": 37,
   "id": "86b34cd9",
   "metadata": {},
   "outputs": [
    {
     "name": "stdout",
     "output_type": "stream",
     "text": [
      "Lubna Nawaz\n"
     ]
    }
   ],
   "source": [
    "print(min(nawaz_heritage))"
   ]
  },
  {
   "cell_type": "code",
   "execution_count": 38,
   "id": "425b4490",
   "metadata": {},
   "outputs": [],
   "source": [
    "car = [\"Jeep\", \"Grand\", \"Cherokee\", \"Sport\", 3.6, \"Liter\"]"
   ]
  },
  {
   "cell_type": "code",
   "execution_count": 39,
   "id": "4ce280d0",
   "metadata": {},
   "outputs": [
    {
     "name": "stdout",
     "output_type": "stream",
     "text": [
      "6\n"
     ]
    }
   ],
   "source": [
    "print(len(car))"
   ]
  },
  {
   "cell_type": "code",
   "execution_count": 40,
   "id": "20bfea9b",
   "metadata": {},
   "outputs": [
    {
     "ename": "TypeError",
     "evalue": "'>' not supported between instances of 'float' and 'str'",
     "output_type": "error",
     "traceback": [
      "\u001b[0;31m---------------------------------------------------------------------------\u001b[0m",
      "\u001b[0;31mTypeError\u001b[0m                                 Traceback (most recent call last)",
      "\u001b[0;32m/var/folders/hj/8r8y28194blbb0cblvt8bvl80000gp/T/ipykernel_1619/2777192870.py\u001b[0m in \u001b[0;36m<module>\u001b[0;34m\u001b[0m\n\u001b[0;32m----> 1\u001b[0;31m \u001b[0mprint\u001b[0m\u001b[0;34m(\u001b[0m\u001b[0mmax\u001b[0m\u001b[0;34m(\u001b[0m\u001b[0mcar\u001b[0m\u001b[0;34m)\u001b[0m\u001b[0;34m)\u001b[0m\u001b[0;34m\u001b[0m\u001b[0;34m\u001b[0m\u001b[0m\n\u001b[0m",
      "\u001b[0;31mTypeError\u001b[0m: '>' not supported between instances of 'float' and 'str'"
     ]
    }
   ],
   "source": [
    "print(max(car))"
   ]
  },
  {
   "cell_type": "code",
   "execution_count": 41,
   "id": "81b34af7",
   "metadata": {},
   "outputs": [
    {
     "ename": "TypeError",
     "evalue": "'<' not supported between instances of 'float' and 'str'",
     "output_type": "error",
     "traceback": [
      "\u001b[0;31m---------------------------------------------------------------------------\u001b[0m",
      "\u001b[0;31mTypeError\u001b[0m                                 Traceback (most recent call last)",
      "\u001b[0;32m/var/folders/hj/8r8y28194blbb0cblvt8bvl80000gp/T/ipykernel_1619/583960758.py\u001b[0m in \u001b[0;36m<module>\u001b[0;34m\u001b[0m\n\u001b[0;32m----> 1\u001b[0;31m \u001b[0mprint\u001b[0m\u001b[0;34m(\u001b[0m\u001b[0msorted\u001b[0m\u001b[0;34m(\u001b[0m\u001b[0mcar\u001b[0m\u001b[0;34m)\u001b[0m\u001b[0;34m)\u001b[0m\u001b[0;34m\u001b[0m\u001b[0;34m\u001b[0m\u001b[0m\n\u001b[0m",
      "\u001b[0;31mTypeError\u001b[0m: '<' not supported between instances of 'float' and 'str'"
     ]
    }
   ],
   "source": [
    "print(sorted(car))"
   ]
  },
  {
   "cell_type": "code",
   "execution_count": 42,
   "id": "439e593b",
   "metadata": {},
   "outputs": [
    {
     "name": "stdout",
     "output_type": "stream",
     "text": [
      "['Lubna Nawaz', 'Mohammed Shahbaz Nawaz', 'Shahnawaz Kukkikatte', 'Shehzad Mohammed Nawaz', 'Sumaiah Nawaz']\n"
     ]
    }
   ],
   "source": [
    "print(sorted(nawaz_heritage))"
   ]
  },
  {
   "cell_type": "code",
   "execution_count": 43,
   "id": "20e166a9",
   "metadata": {},
   "outputs": [],
   "source": [
    "swzz_years = [1986, 1989, 2016, 2019]"
   ]
  },
  {
   "cell_type": "code",
   "execution_count": 44,
   "id": "7d647ab8",
   "metadata": {},
   "outputs": [
    {
     "name": "stdout",
     "output_type": "stream",
     "text": [
      "[1986, 1989, 2016, 2019]\n"
     ]
    }
   ],
   "source": [
    "print(sorted(swzz_years))"
   ]
  },
  {
   "cell_type": "code",
   "execution_count": 47,
   "id": "1c542af4",
   "metadata": {},
   "outputs": [
    {
     "name": "stdout",
     "output_type": "stream",
     "text": [
      "[2019, 2016, 1989, 1986]\n"
     ]
    }
   ],
   "source": [
    "print(sorted(swzz_years, reverse=True))"
   ]
  },
  {
   "cell_type": "code",
   "execution_count": 48,
   "id": "72ac52c2",
   "metadata": {},
   "outputs": [
    {
     "ename": "TypeError",
     "evalue": "sequence item 0: expected str instance, int found",
     "output_type": "error",
     "traceback": [
      "\u001b[0;31m---------------------------------------------------------------------------\u001b[0m",
      "\u001b[0;31mTypeError\u001b[0m                                 Traceback (most recent call last)",
      "\u001b[0;32m/var/folders/hj/8r8y28194blbb0cblvt8bvl80000gp/T/ipykernel_1619/107491841.py\u001b[0m in \u001b[0;36m<module>\u001b[0;34m\u001b[0m\n\u001b[0;32m----> 1\u001b[0;31m \u001b[0mswzz_years_1\u001b[0m \u001b[0;34m=\u001b[0m \u001b[0;34m\"\\n\"\u001b[0m\u001b[0;34m.\u001b[0m\u001b[0mjoin\u001b[0m\u001b[0;34m(\u001b[0m\u001b[0mswzz_years\u001b[0m\u001b[0;34m)\u001b[0m\u001b[0;34m\u001b[0m\u001b[0;34m\u001b[0m\u001b[0m\n\u001b[0m",
      "\u001b[0;31mTypeError\u001b[0m: sequence item 0: expected str instance, int found"
     ]
    }
   ],
   "source": [
    "swzz_years_1 = \"\\n\".join(swzz_years)\n",
    "print(swzz_years_1)"
   ]
  },
  {
   "cell_type": "code",
   "execution_count": 51,
   "id": "f6f88956",
   "metadata": {},
   "outputs": [
    {
     "name": "stdout",
     "output_type": "stream",
     "text": [
      "Shahnawaz Kukkikatte\n",
      "Lubna Nawaz\n",
      "Sumaiah Nawaz\n",
      "Mohammed Shahbaz Nawaz\n",
      "Shehzad Mohammed Nawaz\n",
      "<class 'str'>\n"
     ]
    }
   ],
   "source": [
    "nawaz_heritage_1 = \"\\n\".join(nawaz_heritage)\n",
    "print(nawaz_heritage_1)\n",
    "print(type(nawaz_heritage_1))"
   ]
  },
  {
   "cell_type": "code",
   "execution_count": 52,
   "id": "1d082e2e",
   "metadata": {},
   "outputs": [
    {
     "name": "stdout",
     "output_type": "stream",
     "text": [
      "Shahnawaz Kukkikatte-Lubna Nawaz-Sumaiah Nawaz-Mohammed Shahbaz Nawaz-Shehzad Mohammed Nawaz\n"
     ]
    }
   ],
   "source": [
    "print(\"-\".join(nawaz_heritage))"
   ]
  },
  {
   "cell_type": "code",
   "execution_count": 54,
   "id": "e065c0ec",
   "metadata": {},
   "outputs": [
    {
     "name": "stdout",
     "output_type": "stream",
     "text": [
      "['Shahnawaz Kukkikatte', 'Lubna Nawaz', 'Sumaiah Nawaz', 'Mohammed Shahbaz Nawaz', 'Shehzad Mohammed Nawaz', 'Waseem Akram Syed', 'Waseem Akram Syed']\n"
     ]
    }
   ],
   "source": [
    "nawaz_heritage.append(\"Waseem Akram Syed\")\n",
    "print(nawaz_heritage)"
   ]
  },
  {
   "cell_type": "code",
   "execution_count": 55,
   "id": "a45eafd0",
   "metadata": {},
   "outputs": [
    {
     "name": "stdout",
     "output_type": "stream",
     "text": [
      "['Shahnawaz Kukkikatte', 'Lubna Nawaz', 'Sumaiah Nawaz', 'Mohammed Shahbaz Nawaz', 'Shehzad Mohammed Nawaz', 'Waseem Akram Syed', 'Waseem Akram Syed', ['Minal Mehboob', 'Ridah Amjad']]\n"
     ]
    }
   ],
   "source": [
    "nawaz_heritage.append([\"Minal Mehboob\",\"Ridah Amjad\"])\n",
    "print(nawaz_heritage)"
   ]
  },
  {
   "cell_type": "code",
   "execution_count": 56,
   "id": "4ea9da87",
   "metadata": {},
   "outputs": [
    {
     "data": {
      "text/plain": [
       "['Minal Mehboob', 'Ridah Amjad']"
      ]
     },
     "execution_count": 56,
     "metadata": {},
     "output_type": "execute_result"
    }
   ],
   "source": [
    "nawaz_heritage[-1]"
   ]
  },
  {
   "cell_type": "code",
   "execution_count": 57,
   "id": "7156a72e",
   "metadata": {},
   "outputs": [
    {
     "name": "stdout",
     "output_type": "stream",
     "text": [
      "['Shahnawaz Kukkikatte', 'Lubna Nawaz', 'Sumaiah Nawaz', 'Mohammed Shahbaz Nawaz', 'Shehzad Mohammed Nawaz', 'Waseem Akram Syed', 'Waseem Akram Syed']\n"
     ]
    }
   ],
   "source": [
    "nawaz_heritage.pop(-1)\n",
    "print(nawaz_heritage)"
   ]
  },
  {
   "cell_type": "code",
   "execution_count": 58,
   "id": "fd8fc351",
   "metadata": {},
   "outputs": [
    {
     "ename": "TypeError",
     "evalue": "list.append() takes exactly one argument (2 given)",
     "output_type": "error",
     "traceback": [
      "\u001b[0;31m---------------------------------------------------------------------------\u001b[0m",
      "\u001b[0;31mTypeError\u001b[0m                                 Traceback (most recent call last)",
      "\u001b[0;32m/var/folders/hj/8r8y28194blbb0cblvt8bvl80000gp/T/ipykernel_1619/3117209910.py\u001b[0m in \u001b[0;36m<module>\u001b[0;34m\u001b[0m\n\u001b[0;32m----> 1\u001b[0;31m \u001b[0mnawaz_heritage\u001b[0m\u001b[0;34m.\u001b[0m\u001b[0mappend\u001b[0m\u001b[0;34m(\u001b[0m\u001b[0;34m\"Minal Mehboob\"\u001b[0m\u001b[0;34m,\u001b[0m\u001b[0;34m\"Ridah Amjad\"\u001b[0m\u001b[0;34m)\u001b[0m\u001b[0;34m\u001b[0m\u001b[0;34m\u001b[0m\u001b[0m\n\u001b[0m\u001b[1;32m      2\u001b[0m \u001b[0mprint\u001b[0m\u001b[0;34m(\u001b[0m\u001b[0mnawaz_heritage\u001b[0m\u001b[0;34m)\u001b[0m\u001b[0;34m\u001b[0m\u001b[0;34m\u001b[0m\u001b[0m\n",
      "\u001b[0;31mTypeError\u001b[0m: list.append() takes exactly one argument (2 given)"
     ]
    }
   ],
   "source": [
    "nawaz_heritage.append(\"Minal Mehboob\",\"Ridah Amjad\")\n",
    "print(nawaz_heritage)"
   ]
  },
  {
   "cell_type": "code",
   "execution_count": 59,
   "id": "04dae358",
   "metadata": {},
   "outputs": [
    {
     "name": "stdout",
     "output_type": "stream",
     "text": [
      "['Shahnawaz Kukkikatte', 'Lubna Nawaz', 'Sumaiah Nawaz', 'Mohammed Shahbaz Nawaz', 'Shehzad Mohammed Nawaz', 'Waseem Akram Syed', 'Waseem Akram Syed', 'Minal Mehboob', 'Ridah Amjad']\n"
     ]
    }
   ],
   "source": [
    "nawaz_heritage.extend([\"Minal Mehboob\",\"Ridah Amjad\"])\n",
    "print(nawaz_heritage)"
   ]
  },
  {
   "cell_type": "code",
   "execution_count": 60,
   "id": "9f76ad0b",
   "metadata": {},
   "outputs": [
    {
     "name": "stdout",
     "output_type": "stream",
     "text": [
      "4\n",
      "2\n"
     ]
    }
   ],
   "source": [
    "a = [1, 5, 8]\n",
    "b = [2, 6, 9, 10]\n",
    "c = [100, 200]\n",
    "\n",
    "print(max([len(a), len(b), len(c)]))\n",
    "print(min([len(a), len(b), len(c)]))"
   ]
  },
  {
   "cell_type": "code",
   "execution_count": 61,
   "id": "e4026426",
   "metadata": {},
   "outputs": [
    {
     "name": "stdout",
     "output_type": "stream",
     "text": [
      "Albert & Ben & Carol & Donna\n"
     ]
    }
   ],
   "source": [
    "names = [\"Carol\", \"Albert\", \"Ben\", \"Donna\"]\n",
    "print(\" & \".join(sorted(names)))"
   ]
  },
  {
   "cell_type": "markdown",
   "id": "aaaec5f7",
   "metadata": {},
   "source": [
    "## <font color='orange'> Tuples </font>"
   ]
  },
  {
   "cell_type": "markdown",
   "id": "244e0af4",
   "metadata": {},
   "source": [
    "A tuple is another useful container. It's a data type for immutable ordered sequences of elements. They are often used to store related pieces of information. Consider this example involving latitude and longitude:\n"
   ]
  },
  {
   "cell_type": "code",
   "execution_count": 1,
   "id": "c6279935",
   "metadata": {},
   "outputs": [
    {
     "name": "stdout",
     "output_type": "stream",
     "text": [
      "Latitude: 13.4125\n",
      "Longitude: 103.866667\n"
     ]
    }
   ],
   "source": [
    "location = (13.4125, 103.866667)\n",
    "print(\"Latitude:\", location[0])\n",
    "print(\"Longitude:\", location[1])"
   ]
  },
  {
   "cell_type": "markdown",
   "id": "e2107788",
   "metadata": {},
   "source": [
    "Tuples are similar to lists in that they store an ordered collection of objects which can be accessed by their indices. Unlike lists, however, tuples are immutable - you can't add and remove items from tuples, or sort them in place."
   ]
  },
  {
   "cell_type": "code",
   "execution_count": 2,
   "id": "766ff189",
   "metadata": {},
   "outputs": [
    {
     "name": "stdout",
     "output_type": "stream",
     "text": [
      "The dimensions are 52 x 40 x 100\n"
     ]
    }
   ],
   "source": [
    "# Tuples can also be used to assign multiple variables in a compact way.\n",
    "dimensions = 52, 40, 100\n",
    "length, width, height = dimensions\n",
    "print(\"The dimensions are {} x {} x {}\".format(length, width, height))"
   ]
  },
  {
   "cell_type": "markdown",
   "id": "6e8cc126",
   "metadata": {},
   "source": [
    "The parentheses are optional when defining tuples, and programmers frequently omit them if parentheses don't clarify the code.\n",
    "\n",
    "In the second line, three variables are assigned from the content of the tuple dimensions. This is called tuple unpacking. You can use tuple unpacking to assign the information from a tuple into multiple variables without having to access them one by one and make multiple assignment statements.\n",
    "\n",
    "If we won't need to use dimensions directly, we could shorten those two lines of code into a single line that assigns three variables in one go!"
   ]
  },
  {
   "cell_type": "code",
   "execution_count": 3,
   "id": "8f849b53",
   "metadata": {},
   "outputs": [
    {
     "name": "stdout",
     "output_type": "stream",
     "text": [
      "The dimensions are 52 x 40 x 100\n"
     ]
    }
   ],
   "source": [
    "length, width, height = 52, 40, 100\n",
    "print(\"The dimensions are {} x {} x {}\".format(length, width, height))"
   ]
  },
  {
   "cell_type": "code",
   "execution_count": 4,
   "id": "3d38f70d",
   "metadata": {},
   "outputs": [
    {
     "name": "stdout",
     "output_type": "stream",
     "text": [
      "<class 'int'>\n"
     ]
    }
   ],
   "source": [
    "print(type(length))"
   ]
  },
  {
   "cell_type": "code",
   "execution_count": 5,
   "id": "1097fdf2",
   "metadata": {},
   "outputs": [
    {
     "name": "stdout",
     "output_type": "stream",
     "text": [
      "<class 'tuple'>\n"
     ]
    }
   ],
   "source": [
    "print(type(dimensions))"
   ]
  },
  {
   "cell_type": "code",
   "execution_count": 6,
   "id": "04a6dfef",
   "metadata": {},
   "outputs": [
    {
     "name": "stdout",
     "output_type": "stream",
     "text": [
      "True\n",
      "2\n"
     ]
    }
   ],
   "source": [
    "# What would the output of the following code be?\n",
    "tuple_a = 1, 2\n",
    "tuple_b = (1, 2)\n",
    "\n",
    "print(tuple_a == tuple_b)\n",
    "print(tuple_a[1])"
   ]
  },
  {
   "cell_type": "markdown",
   "id": "c066b59c",
   "metadata": {},
   "source": [
    "## <font color=\"orange\"> Sets </font>"
   ]
  },
  {
   "cell_type": "markdown",
   "id": "2193292d",
   "metadata": {},
   "source": [
    "A set is a data type for mutable unordered collections of unique elements. One application of a set is to quickly remove duplicates from a list."
   ]
  },
  {
   "cell_type": "code",
   "execution_count": 7,
   "id": "50f98239",
   "metadata": {},
   "outputs": [
    {
     "name": "stdout",
     "output_type": "stream",
     "text": [
      "{1, 2, 3, 6}\n"
     ]
    }
   ],
   "source": [
    "numbers = [1, 2, 6, 3, 1, 1, 6]\n",
    "unique_nums = set(numbers)\n",
    "print(unique_nums)"
   ]
  },
  {
   "cell_type": "code",
   "execution_count": 8,
   "id": "ec562545",
   "metadata": {},
   "outputs": [
    {
     "name": "stdout",
     "output_type": "stream",
     "text": [
      "<class 'list'> <class 'set'>\n"
     ]
    }
   ],
   "source": [
    "print(type(numbers), type(unique_nums))"
   ]
  },
  {
   "cell_type": "markdown",
   "id": "392306cd",
   "metadata": {},
   "source": [
    "Sets support the in operator the same as lists do. You can add elements to sets using the add method, and remove elements using the pop method, similar to lists. Although, when you pop an element from a set, a random element is removed. Remember that sets, unlike lists, are unordered so there is no \"last element\""
   ]
  },
  {
   "cell_type": "code",
   "execution_count": 9,
   "id": "109c1d4c",
   "metadata": {},
   "outputs": [],
   "source": [
    "fruit = {\"apple\", \"banana\", \"orange\", \"grapefruit\"}  # define a set"
   ]
  },
  {
   "cell_type": "code",
   "execution_count": 10,
   "id": "c39fa7dc",
   "metadata": {},
   "outputs": [
    {
     "name": "stdout",
     "output_type": "stream",
     "text": [
      "False\n"
     ]
    }
   ],
   "source": [
    "print(\"watermelon\" in fruit)  # check for element"
   ]
  },
  {
   "cell_type": "code",
   "execution_count": 11,
   "id": "30ca4134",
   "metadata": {},
   "outputs": [
    {
     "name": "stdout",
     "output_type": "stream",
     "text": [
      "{'apple', 'banana', 'watermelon', 'orange', 'grapefruit'}\n"
     ]
    }
   ],
   "source": [
    "fruit.add(\"watermelon\")  # add an element\n",
    "print(fruit)"
   ]
  },
  {
   "cell_type": "code",
   "execution_count": 12,
   "id": "27980e39",
   "metadata": {},
   "outputs": [
    {
     "name": "stdout",
     "output_type": "stream",
     "text": [
      "apple\n"
     ]
    }
   ],
   "source": [
    "print(fruit.pop())  # remove a random element"
   ]
  },
  {
   "cell_type": "code",
   "execution_count": 13,
   "id": "d3848e2b",
   "metadata": {},
   "outputs": [
    {
     "name": "stdout",
     "output_type": "stream",
     "text": [
      "{'banana', 'watermelon', 'orange', 'grapefruit'}\n"
     ]
    }
   ],
   "source": [
    "print(fruit)"
   ]
  },
  {
   "cell_type": "markdown",
   "id": "f90320d3",
   "metadata": {},
   "source": [
    "Other operations you can perform with sets include those of mathematical sets. Methods like union, intersection, and difference are easy to perform with sets, and are much faster than such operators with other containers."
   ]
  },
  {
   "cell_type": "code",
   "execution_count": 15,
   "id": "b17a3e64",
   "metadata": {},
   "outputs": [
    {
     "name": "stdout",
     "output_type": "stream",
     "text": [
      "6\n"
     ]
    }
   ],
   "source": [
    "# What would the output of the following code be?\n",
    "a = [1, 2, 2, 3, 3, 3, 4, 4, 4, 4]\n",
    "b = set(a)\n",
    "print(len(a) - len(b))"
   ]
  },
  {
   "cell_type": "code",
   "execution_count": 16,
   "id": "1608f4c0",
   "metadata": {},
   "outputs": [
    {
     "data": {
      "text/plain": [
       "1"
      ]
     },
     "execution_count": 16,
     "metadata": {},
     "output_type": "execute_result"
    }
   ],
   "source": [
    "\n",
    "a = [1, 2, 2, 3, 3, 3, 4, 4, 4, 4]\n",
    "b = set(a)\n",
    "b.add(5)\n",
    "b.pop()"
   ]
  },
  {
   "cell_type": "markdown",
   "id": "bc52cde1",
   "metadata": {},
   "source": [
    "## <font color=\"orange\"> Dictionaries and Identity Operators </font>"
   ]
  },
  {
   "cell_type": "markdown",
   "id": "7621deeb",
   "metadata": {},
   "source": [
    "A dictionary is a mutable data type that stores mappings of unique keys to values. Here's a dictionary that stores elements and their atomic numbers."
   ]
  },
  {
   "cell_type": "code",
   "execution_count": 17,
   "id": "6fc16936",
   "metadata": {},
   "outputs": [],
   "source": [
    "elements = {\"hydrogen\": 1, \"helium\": 2, \"carbon\": 6}"
   ]
  },
  {
   "cell_type": "markdown",
   "id": "c95aa5c3",
   "metadata": {},
   "source": [
    "Dictionaries can have keys of any immutable type, like integers or tuples, not just strings. It's not even necessary for every key to have the same type! We can look up values or insert new values in the dictionary using square brackets that enclose the key."
   ]
  },
  {
   "cell_type": "code",
   "execution_count": 18,
   "id": "cbccef2f",
   "metadata": {},
   "outputs": [
    {
     "name": "stdout",
     "output_type": "stream",
     "text": [
      "2\n"
     ]
    }
   ],
   "source": [
    "print(elements[\"helium\"])  # print the value mapped to \"helium\""
   ]
  },
  {
   "cell_type": "code",
   "execution_count": 19,
   "id": "7d0d8b2b",
   "metadata": {},
   "outputs": [],
   "source": [
    "elements[\"lithium\"] = 3  # insert \"lithium\" with a value of 3 into the dictionary"
   ]
  },
  {
   "cell_type": "code",
   "execution_count": 20,
   "id": "c63291a5",
   "metadata": {},
   "outputs": [
    {
     "name": "stdout",
     "output_type": "stream",
     "text": [
      "{'hydrogen': 1, 'helium': 2, 'carbon': 6, 'lithium': 3}\n"
     ]
    }
   ],
   "source": [
    "print(elements)"
   ]
  },
  {
   "cell_type": "markdown",
   "id": "d30e631d",
   "metadata": {},
   "source": [
    "We can check whether a value is in a dictionary the same way we check whether a value is in a list or set with the in keyword. Dicts have a related method that's also useful, get. get looks up values in a dictionary, but unlike square brackets, get returns None (or a default value of your choice) if the key isn't found."
   ]
  },
  {
   "cell_type": "code",
   "execution_count": 21,
   "id": "6978c61b",
   "metadata": {},
   "outputs": [
    {
     "name": "stdout",
     "output_type": "stream",
     "text": [
      "True\n"
     ]
    }
   ],
   "source": [
    "print(\"carbon\" in elements)"
   ]
  },
  {
   "cell_type": "code",
   "execution_count": 23,
   "id": "04c82680",
   "metadata": {
    "scrolled": true
   },
   "outputs": [
    {
     "name": "stdout",
     "output_type": "stream",
     "text": [
      "3\n"
     ]
    }
   ],
   "source": [
    "print(elements.get(\"lithium\"))"
   ]
  },
  {
   "cell_type": "code",
   "execution_count": 22,
   "id": "e71a9925",
   "metadata": {
    "scrolled": true
   },
   "outputs": [
    {
     "name": "stdout",
     "output_type": "stream",
     "text": [
      "None\n"
     ]
    }
   ],
   "source": [
    "print(elements.get(\"dilithium\"))"
   ]
  },
  {
   "cell_type": "code",
   "execution_count": 27,
   "id": "b0e368dc",
   "metadata": {},
   "outputs": [
    {
     "name": "stdout",
     "output_type": "stream",
     "text": [
      "There's no such element!\n"
     ]
    }
   ],
   "source": [
    "print(elements.get(\"dilithium\", 'There\\'s no such element!'))"
   ]
  },
  {
   "cell_type": "code",
   "execution_count": 25,
   "id": "1842c72e",
   "metadata": {
    "scrolled": true
   },
   "outputs": [
    {
     "name": "stdout",
     "output_type": "stream",
     "text": [
      "3\n"
     ]
    }
   ],
   "source": [
    "print(elements[\"lithium\"])"
   ]
  },
  {
   "cell_type": "code",
   "execution_count": 24,
   "id": "a6b8a82d",
   "metadata": {},
   "outputs": [
    {
     "ename": "KeyError",
     "evalue": "'dilithium'",
     "output_type": "error",
     "traceback": [
      "\u001b[0;31m---------------------------------------------------------------------------\u001b[0m",
      "\u001b[0;31mKeyError\u001b[0m                                  Traceback (most recent call last)",
      "\u001b[0;32m/var/folders/hj/8r8y28194blbb0cblvt8bvl80000gp/T/ipykernel_87264/1253177284.py\u001b[0m in \u001b[0;36m<module>\u001b[0;34m\u001b[0m\n\u001b[0;32m----> 1\u001b[0;31m \u001b[0mprint\u001b[0m\u001b[0;34m(\u001b[0m\u001b[0melements\u001b[0m\u001b[0;34m[\u001b[0m\u001b[0;34m\"dilithium\"\u001b[0m\u001b[0;34m]\u001b[0m\u001b[0;34m)\u001b[0m\u001b[0;34m\u001b[0m\u001b[0;34m\u001b[0m\u001b[0m\n\u001b[0m",
      "\u001b[0;31mKeyError\u001b[0m: 'dilithium'"
     ]
    }
   ],
   "source": [
    "print(elements[\"dilithium\"])"
   ]
  },
  {
   "cell_type": "markdown",
   "id": "f6c00edf",
   "metadata": {},
   "source": [
    "is: evaluates if both sides have the same identity <br>\n",
    "is not: evaluates if both sides have different identities"
   ]
  },
  {
   "cell_type": "code",
   "execution_count": 26,
   "id": "a64bfe5c",
   "metadata": {},
   "outputs": [
    {
     "name": "stdout",
     "output_type": "stream",
     "text": [
      "True\n",
      "False\n"
     ]
    }
   ],
   "source": [
    "n = elements.get(\"dilithium\")\n",
    "print(n is None)\n",
    "print(n is not None)"
   ]
  },
  {
   "cell_type": "markdown",
   "id": "fa33b244",
   "metadata": {},
   "source": [
    "### Checking for Equality vs. Identity: == vs. is"
   ]
  },
  {
   "cell_type": "code",
   "execution_count": 28,
   "id": "2449c662",
   "metadata": {},
   "outputs": [
    {
     "name": "stdout",
     "output_type": "stream",
     "text": [
      "True\n",
      "True\n",
      "True\n",
      "False\n"
     ]
    }
   ],
   "source": [
    "a = [1, 2, 3]\n",
    "b = a\n",
    "c = [1, 2, 3]\n",
    "\n",
    "print(a == b)\n",
    "print(a is b)\n",
    "print(a == c)\n",
    "print(a is c)"
   ]
  },
  {
   "cell_type": "code",
   "execution_count": 29,
   "id": "c74c3ec9",
   "metadata": {},
   "outputs": [],
   "source": [
    "# Practice on Dictionaries\n",
    "\n",
    "animals = {'dogs': [20, 10, 15, 8, 32, 15], \n",
    "           'cats': [3,4,2,8,2,4], \n",
    "           'rabbits': [2, 3, 3], \n",
    "           'fish': [0.3, 0.5, 0.8, 0.3, 1]}"
   ]
  },
  {
   "cell_type": "code",
   "execution_count": 30,
   "id": "f8ca36b6",
   "metadata": {},
   "outputs": [
    {
     "data": {
      "text/plain": [
       "{str}"
      ]
     },
     "execution_count": 30,
     "metadata": {},
     "output_type": "execute_result"
    }
   ],
   "source": [
    "# Identify the datatype of the Keys in the dictionary\n",
    "set(map(type, animals))"
   ]
  },
  {
   "cell_type": "code",
   "execution_count": 32,
   "id": "a8b63257",
   "metadata": {},
   "outputs": [
    {
     "name": "stdout",
     "output_type": "stream",
     "text": [
      "[<class 'str'>, <class 'str'>, <class 'str'>, <class 'str'>]\n"
     ]
    }
   ],
   "source": [
    "Types = [type(k) for k in animals.keys()]\n",
    "print(Types)"
   ]
  },
  {
   "cell_type": "code",
   "execution_count": 34,
   "id": "62eb0aa3",
   "metadata": {},
   "outputs": [
    {
     "name": "stdout",
     "output_type": "stream",
     "text": [
      "<class 'str'>\n",
      "<class 'str'>\n",
      "<class 'str'>\n",
      "<class 'str'>\n"
     ]
    }
   ],
   "source": [
    "print(\"\\n\".join(map(str,Types)))"
   ]
  },
  {
   "cell_type": "code",
   "execution_count": null,
   "id": "ebbcb183",
   "metadata": {},
   "outputs": [],
   "source": [
    "# Identify the datatype of the Values in the dictionary\n",
    "set(map(type, animals))"
   ]
  },
  {
   "cell_type": "markdown",
   "id": "41036777",
   "metadata": {},
   "source": [
    "## <font color=\"orange\"> Compound Data Structures </font>"
   ]
  },
  {
   "cell_type": "markdown",
   "id": "51954138",
   "metadata": {},
   "source": [
    "We can include containers in other containers to create compound data structures. For example, this dictionary maps keys to values that are also dictionaries!"
   ]
  },
  {
   "cell_type": "code",
   "execution_count": 35,
   "id": "f45af1f1",
   "metadata": {},
   "outputs": [],
   "source": [
    "elements = {\"hydrogen\": {\"number\": 1,\n",
    "                         \"weight\": 1.00794,\n",
    "                         \"symbol\": \"H\"},\n",
    "              \"helium\": {\"number\": 2,\n",
    "                         \"weight\": 4.002602,\n",
    "                         \"symbol\": \"He\"}}"
   ]
  },
  {
   "cell_type": "code",
   "execution_count": 36,
   "id": "0772c772",
   "metadata": {},
   "outputs": [],
   "source": [
    "#We can access elements in this nested dictionary like this.\n",
    "\n",
    "helium = elements[\"helium\"]  # get the helium dictionary\n",
    "hydrogen_weight = elements[\"hydrogen\"][\"weight\"]  # get hydrogen's weight"
   ]
  },
  {
   "cell_type": "code",
   "execution_count": 37,
   "id": "eb6979e0",
   "metadata": {},
   "outputs": [
    {
     "name": "stdout",
     "output_type": "stream",
     "text": [
      "elements =  {'hydrogen': {'number': 1, 'weight': 1.00794, 'symbol': 'H'}, 'helium': {'number': 2, 'weight': 4.002602, 'symbol': 'He'}, 'oxygen': {'number': 8, 'weight': 15.999, 'symbol': 'O'}}\n"
     ]
    }
   ],
   "source": [
    "#You can also add a new key to the element dictionary.\n",
    "oxygen = {\"number\":8,\"weight\":15.999,\"symbol\":\"O\"}  # create a new oxygen dictionary \n",
    "elements[\"oxygen\"] = oxygen  # assign 'oxygen' as a key to the elements dictionary\n",
    "print('elements = ', elements)"
   ]
  },
  {
   "cell_type": "code",
   "execution_count": 38,
   "id": "37aea4e5",
   "metadata": {},
   "outputs": [],
   "source": [
    "elements[\"hydrogen\"][\"is_noble_gas\"] = False\n",
    "elements[\"helium\"][\"is_noble_gas\"] = True"
   ]
  },
  {
   "cell_type": "code",
   "execution_count": 39,
   "id": "3f76a048",
   "metadata": {},
   "outputs": [
    {
     "name": "stdout",
     "output_type": "stream",
     "text": [
      "{'hydrogen': {'number': 1, 'weight': 1.00794, 'symbol': 'H', 'is_noble_gas': False}, 'helium': {'number': 2, 'weight': 4.002602, 'symbol': 'He', 'is_noble_gas': True}, 'oxygen': {'number': 8, 'weight': 15.999, 'symbol': 'O'}}\n"
     ]
    }
   ],
   "source": [
    "print(elements)"
   ]
  },
  {
   "cell_type": "code",
   "execution_count": 40,
   "id": "81794f9e",
   "metadata": {},
   "outputs": [
    {
     "name": "stdout",
     "output_type": "stream",
     "text": [
      "False\n"
     ]
    }
   ],
   "source": [
    "print(elements['hydrogen']['is_noble_gas'])"
   ]
  },
  {
   "cell_type": "code",
   "execution_count": 41,
   "id": "c29447cb",
   "metadata": {},
   "outputs": [
    {
     "name": "stdout",
     "output_type": "stream",
     "text": [
      "if you can keep your head when all about you are losing theirs and blaming it on you   if you can trust yourself when all men doubt you     but make allowance for their doubting too   if you can wait and not be tired by waiting      or being lied about  don’t deal in lies   or being hated  don’t give way to hating      and yet don’t look too good  nor talk too wise \n",
      "\n"
     ]
    }
   ],
   "source": [
    "# Your task for this quiz is to find the number of unique words in the text. In the code editor below, complete these three steps to get your answer.\n",
    "verse = \"if you can keep your head when all about you are losing theirs and blaming it on you   if you can trust yourself when all men doubt you     but make allowance for their doubting too   if you can wait and not be tired by waiting      or being lied about  don’t deal in lies   or being hated  don’t give way to hating      and yet don’t look too good  nor talk too wise\"\n",
    "print(verse, '\\n')"
   ]
  },
  {
   "cell_type": "code",
   "execution_count": 46,
   "id": "bb2a0501",
   "metadata": {},
   "outputs": [
    {
     "name": "stdout",
     "output_type": "stream",
     "text": [
      "['if', 'you', 'can', 'keep', 'your', 'head', 'when', 'all', 'about', 'you', 'are', 'losing', 'theirs', 'and', 'blaming', 'it', 'on', 'you', 'if', 'you', 'can', 'trust', 'yourself', 'when', 'all', 'men', 'doubt', 'you', 'but', 'make', 'allowance', 'for', 'their', 'doubting', 'too', 'if', 'you', 'can', 'wait', 'and', 'not', 'be', 'tired', 'by', 'waiting', 'or', 'being', 'lied', 'about', 'don’t', 'deal', 'in', 'lies', 'or', 'being', 'hated', 'don’t', 'give', 'way', 'to', 'hating', 'and', 'yet', 'don’t', 'look', 'too', 'good', 'nor', 'talk', 'too', 'wise'] \n",
      "\n"
     ]
    }
   ],
   "source": [
    "# split verse into list of words\n",
    "verse_list = verse.split()\n",
    "print(verse_list,'\\n')"
   ]
  },
  {
   "cell_type": "code",
   "execution_count": 47,
   "id": "ee2d452c",
   "metadata": {},
   "outputs": [
    {
     "name": "stdout",
     "output_type": "stream",
     "text": [
      "{'are', 'it', 'being', 'good', 'hated', 'head', 'yet', 'lies', 'losing', 'when', 'can', 'their', 'you', 'theirs', 'blaming', 'yourself', 'way', 'make', 'to', 'keep', 'for', 'be', 'by', 'lied', 'allowance', 'don’t', 'trust', 'about', 'deal', 'all', 'wait', 'waiting', 'nor', 'doubt', 'but', 'or', 'and', 'hating', 'your', 'if', 'not', 'men', 'give', 'too', 'look', 'on', 'talk', 'wise', 'in', 'doubting', 'tired'} \n",
      "\n"
     ]
    }
   ],
   "source": [
    "# convert list to a data structure that stores unique elements\n",
    "\n",
    "verse_set=set(verse_list)\n",
    "print(verse_set,'\\n')"
   ]
  },
  {
   "cell_type": "code",
   "execution_count": 48,
   "id": "597bc453",
   "metadata": {},
   "outputs": [
    {
     "name": "stdout",
     "output_type": "stream",
     "text": [
      "51 \n",
      "\n"
     ]
    }
   ],
   "source": [
    "# print the number of unique words\n",
    "num_unique = len(verse_set)\n",
    "print(num_unique, '\\n')"
   ]
  },
  {
   "cell_type": "code",
   "execution_count": 49,
   "id": "99d664de",
   "metadata": {
    "scrolled": false
   },
   "outputs": [
    {
     "name": "stdout",
     "output_type": "stream",
     "text": [
      "{'if': 3, 'you': 6, 'can': 3, 'keep': 1, 'your': 1, 'head': 1, 'when': 2, 'all': 2, 'about': 2, 'are': 1, 'losing': 1, 'theirs': 1, 'and': 3, 'blaming': 1, 'it': 1, 'on': 1, 'trust': 1, 'yourself': 1, 'men': 1, 'doubt': 1, 'but': 1, 'make': 1, 'allowance': 1, 'for': 1, 'their': 1, 'doubting': 1, 'too': 3, 'wait': 1, 'not': 1, 'be': 1, 'tired': 1, 'by': 1, 'waiting': 1, 'or': 2, 'being': 2, 'lied': 1, \"don't\": 3, 'deal': 1, 'in': 1, 'lies': 1, 'hated': 1, 'give': 1, 'way': 1, 'to': 1, 'hating': 1, 'yet': 1, 'look': 1, 'good': 1, 'nor': 1, 'talk': 1, 'wise': 1} \n",
      "\n"
     ]
    }
   ],
   "source": [
    "#practice in dictionaries\n",
    "verse_dict =  {'if': 3, 'you': 6, 'can': 3, 'keep': 1, 'your': 1, 'head': 1, 'when': 2, 'all': 2, 'about': 2, 'are': 1, 'losing': 1, 'theirs': 1, 'and': 3, 'blaming': 1, 'it': 1, 'on': 1, 'trust': 1, 'yourself': 1, 'men': 1, 'doubt': 1, 'but': 1, 'make': 1, 'allowance': 1, 'for': 1, 'their': 1, 'doubting': 1, 'too': 3, 'wait': 1, 'not': 1, 'be': 1, 'tired': 1, 'by': 1, 'waiting': 1, 'or': 2, 'being': 2, 'lied': 1, 'don\\'t': 3, 'deal': 1, 'in': 1, 'lies': 1, 'hated': 1, 'give': 1, 'way': 1, 'to': 1, 'hating': 1, 'yet': 1, 'look': 1, 'good': 1, 'nor': 1, 'talk': 1, 'wise': 1}\n",
    "print(verse_dict, '\\n')"
   ]
  },
  {
   "cell_type": "code",
   "execution_count": 57,
   "id": "273bf490",
   "metadata": {},
   "outputs": [
    {
     "name": "stdout",
     "output_type": "stream",
     "text": [
      "keys in a list: ['if', 'you', 'can', 'keep', 'your', 'head', 'when', 'all', 'about', 'are', 'losing', 'theirs', 'and', 'blaming', 'it', 'on', 'trust', 'yourself', 'men', 'doubt', 'but', 'make', 'allowance', 'for', 'their', 'doubting', 'too', 'wait', 'not', 'be', 'tired', 'by', 'waiting', 'or', 'being', 'lied', \"don't\", 'deal', 'in', 'lies', 'hated', 'give', 'way', 'to', 'hating', 'yet', 'look', 'good', 'nor', 'talk', 'wise']\n"
     ]
    }
   ],
   "source": [
    "# print keys in the dictionary\n",
    "\n",
    "keys_list=list(verse_dict.keys())\n",
    "print('keys in a list:',keys_list)"
   ]
  },
  {
   "cell_type": "code",
   "execution_count": 52,
   "id": "e38b382c",
   "metadata": {},
   "outputs": [
    {
     "name": "stdout",
     "output_type": "stream",
     "text": [
      "unique keys in the list: {'are', 'it', 'being', 'good', 'hated', 'head', 'yet', 'lies', 'losing', 'when', 'can', 'their', 'you', 'theirs', 'blaming', 'yourself', 'way', 'make', 'to', 'keep', 'for', 'be', 'by', 'lied', 'allowance', 'trust', 'about', 'deal', 'all', 'wait', 'waiting', 'nor', 'doubt', 'but', 'or', 'and', 'hating', \"don't\", 'your', 'if', 'not', 'men', 'give', 'too', 'look', 'on', 'talk', 'wise', 'in', 'doubting', 'tired'}\n"
     ]
    }
   ],
   "source": [
    "# unique keys in the list\n",
    "unique_keys = set(verse_dict.keys())\n",
    "print('unique keys in the list:',unique_keys)"
   ]
  },
  {
   "cell_type": "code",
   "execution_count": 53,
   "id": "759a3044",
   "metadata": {},
   "outputs": [
    {
     "name": "stdout",
     "output_type": "stream",
     "text": [
      "51\n"
     ]
    }
   ],
   "source": [
    "# find number of unique keys in the dictionary\n",
    "num_keys = len(set(verse_dict.keys()))\n",
    "print(num_keys)"
   ]
  },
  {
   "cell_type": "code",
   "execution_count": 54,
   "id": "36731005",
   "metadata": {},
   "outputs": [
    {
     "name": "stdout",
     "output_type": "stream",
     "text": [
      "False\n"
     ]
    }
   ],
   "source": [
    "# is the key \"breathe\" in verse_dict?\n",
    "print('breathe' in unique_keys)"
   ]
  },
  {
   "cell_type": "code",
   "execution_count": 58,
   "id": "08f30ccf",
   "metadata": {},
   "outputs": [
    {
     "name": "stdout",
     "output_type": "stream",
     "text": [
      "about\n"
     ]
    }
   ],
   "source": [
    "# What is the first element in the list created when verse_dict is sorted by keys?\n",
    "\n",
    "keys_list_sorted=sorted(verse_dict.keys())\n",
    "\n",
    "print(keys_list_sorted[0])"
   ]
  },
  {
   "cell_type": "code",
   "execution_count": 62,
   "id": "5f3a3c37",
   "metadata": {},
   "outputs": [
    {
     "name": "stdout",
     "output_type": "stream",
     "text": [
      "yourself \n",
      " you\n"
     ]
    }
   ],
   "source": [
    "# Which key (word) has the highest value in verse_dict?\n",
    "\n",
    "print(max(verse_dict), \"\\n\",max(verse_dict, key=verse_dict.get))\n",
    "#values_list_sorted=sorted(verse_dict.values())\n",
    "\n",
    "#print(verse_dict[values_list_sorted[-1]])"
   ]
  },
  {
   "cell_type": "markdown",
   "id": "ea8a2a31",
   "metadata": {},
   "source": [
    "### good resource for practice\n",
    "https://note.nkmk.me/en/python-dict-value-max-min/\n"
   ]
  },
  {
   "cell_type": "markdown",
   "id": "05a40bcb",
   "metadata": {},
   "source": [
    "## summary of the data structures\n",
    "\n",
    "#### <table> <tr> <th> Data Structure </th> <th> Ordered </th> <th> Mutable </th> <th> Constructor </th> <th> Example </th> </tr> <tr> <td> List </td> <td> Yes </td> <td> Yes </td> <td> [ ] or list() </td> <td> [5.7, 4, 'yes', 5.7] </td> </tr> <tr> <td> Tuple </td> <td> Yes </td> <td> No </td> <td> ( ) or tuple() </td> <td> (5.7, 4, 'yes', 5.7) </td> </tr> <tr> <td> Set </td> <td> No </td> <td> Yes </td> <td> {}* or set() </td> <td> {5.7, 4, 'yes'} </td> </tr> <tr> <td> Dictionary </td> <td> No </td> <td> No </td> <td> { } or dict() </td> <td> {'Jun': 75, 'Jul': 89} </td> </tr> </table>\n",
    "\t     \t    "
   ]
  },
  {
   "cell_type": "markdown",
   "id": "c01e961b",
   "metadata": {},
   "source": [
    "### summary of the data structures\n",
    "\n",
    "| Data Structure | Ordered | Mutable | Constructor | Example |\n",
    "| --- | --- | --- | --- | --- |\n",
    "| List | Yes | Yes | [ ] or list() | [5.7, 4, 'yes', 5.7] |\n",
    "| Tuple | Yes | No | ( ) or tuple() | (5.7, 4, 'yes', 5.7) |\n",
    "| Set | No | Yes | {}* or set() | {5.7, 4, 'yes'} |\n",
    "| Dictionary | No | No** | { } or dict() | {'Jun': 75, 'Jul': 89} |\n",
    "\n",
    "\n",
    "##### * You can use curly braces to define a set like this: {1, 2, 3}. However, if you leave the curly braces empty like this: {} Python will instead create an empty dictionary. So to create an empty set, use set().\n",
    "\n",
    "##### ** A dictionary itself is mutable, but each of its individual keys must be immutable.\n"
   ]
  },
  {
   "cell_type": "code",
   "execution_count": null,
   "id": "06ce6cfb",
   "metadata": {},
   "outputs": [],
   "source": []
  }
 ],
 "metadata": {
  "kernelspec": {
   "display_name": "Python 3 (ipykernel)",
   "language": "python",
   "name": "python3"
  },
  "language_info": {
   "codemirror_mode": {
    "name": "ipython",
    "version": 3
   },
   "file_extension": ".py",
   "mimetype": "text/x-python",
   "name": "python",
   "nbconvert_exporter": "python",
   "pygments_lexer": "ipython3",
   "version": "3.9.13"
  }
 },
 "nbformat": 4,
 "nbformat_minor": 5
}
