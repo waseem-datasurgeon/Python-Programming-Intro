{
 "cells": [
  {
   "cell_type": "code",
   "execution_count": 1,
   "id": "bd260837",
   "metadata": {},
   "outputs": [],
   "source": [
    "carrots = 24\n",
    "\n",
    "rabbits = 8\n",
    "\n",
    "car_per_rab = carrots / rabbits"
   ]
  },
  {
   "cell_type": "code",
   "execution_count": 2,
   "id": "1df231d7",
   "metadata": {},
   "outputs": [
    {
     "name": "stdout",
     "output_type": "stream",
     "text": [
      "3.0\n"
     ]
    }
   ],
   "source": [
    "print(car_per_rab)"
   ]
  },
  {
   "cell_type": "code",
   "execution_count": 3,
   "id": "fa5528a1",
   "metadata": {},
   "outputs": [],
   "source": [
    "rabbits = 12"
   ]
  },
  {
   "cell_type": "code",
   "execution_count": 4,
   "id": "29f44d7a",
   "metadata": {},
   "outputs": [
    {
     "name": "stdout",
     "output_type": "stream",
     "text": [
      "3.0\n"
     ]
    }
   ],
   "source": [
    "print(car_per_rab)"
   ]
  },
  {
   "cell_type": "code",
   "execution_count": 5,
   "id": "2871e785",
   "metadata": {},
   "outputs": [
    {
     "name": "stdout",
     "output_type": "stream",
     "text": [
      "<class 'float'>\n"
     ]
    }
   ],
   "source": [
    "print(type(car_per_rab))"
   ]
  },
  {
   "cell_type": "code",
   "execution_count": 6,
   "id": "1183db2d",
   "metadata": {},
   "outputs": [
    {
     "name": "stdout",
     "output_type": "stream",
     "text": [
      "30.0\n"
     ]
    }
   ],
   "source": [
    "print(float(10+20))"
   ]
  },
  {
   "cell_type": "code",
   "execution_count": 8,
   "id": "2ba6a04a",
   "metadata": {},
   "outputs": [
    {
     "name": "stdout",
     "output_type": "stream",
     "text": [
      "3 3.3333333333333335\n"
     ]
    }
   ],
   "source": [
    "print(int(10/3), 10/3)"
   ]
  },
  {
   "cell_type": "code",
   "execution_count": 9,
   "id": "5f0f8ef8",
   "metadata": {},
   "outputs": [
    {
     "name": "stdout",
     "output_type": "stream",
     "text": [
      "0.30000000000000004\n"
     ]
    }
   ],
   "source": [
    "print(0.1+0.1+0.1)"
   ]
  },
  {
   "cell_type": "code",
   "execution_count": 10,
   "id": "c22cab98",
   "metadata": {},
   "outputs": [
    {
     "name": "stdout",
     "output_type": "stream",
     "text": [
      "True\n"
     ]
    }
   ],
   "source": [
    "print (10 > 8)"
   ]
  },
  {
   "cell_type": "markdown",
   "id": "3ff78b30",
   "metadata": {},
   "source": [
    "### Strings"
   ]
  },
  {
   "cell_type": "code",
   "execution_count": 11,
   "id": "a05ce7cc",
   "metadata": {},
   "outputs": [
    {
     "name": "stdout",
     "output_type": "stream",
     "text": [
      "Hello\n",
      "Hello\n"
     ]
    }
   ],
   "source": [
    "print(\"Hello\")\n",
    "print('Hello')"
   ]
  },
  {
   "cell_type": "code",
   "execution_count": 12,
   "id": "1145db39",
   "metadata": {},
   "outputs": [
    {
     "name": "stdout",
     "output_type": "stream",
     "text": [
      "Simon's skateboard is in the garage.\n"
     ]
    }
   ],
   "source": [
    "this_string = 'Simon\\'s skateboard is in the garage.'\n",
    "print(this_string)"
   ]
  },
  {
   "cell_type": "code",
   "execution_count": 13,
   "id": "22915956",
   "metadata": {},
   "outputs": [],
   "source": [
    "first_word = 'Hello'\n",
    "second_word = 'There'"
   ]
  },
  {
   "cell_type": "code",
   "execution_count": 14,
   "id": "a30ab9e5",
   "metadata": {},
   "outputs": [
    {
     "name": "stdout",
     "output_type": "stream",
     "text": [
      "HelloThere\n"
     ]
    }
   ],
   "source": [
    "print(first_word+second_word)"
   ]
  },
  {
   "cell_type": "code",
   "execution_count": 15,
   "id": "e20fa57b",
   "metadata": {},
   "outputs": [
    {
     "name": "stdout",
     "output_type": "stream",
     "text": [
      "Hello There\n"
     ]
    }
   ],
   "source": [
    "print(first_word+' '+second_word)"
   ]
  },
  {
   "cell_type": "code",
   "execution_count": 16,
   "id": "fc98ec40",
   "metadata": {},
   "outputs": [
    {
     "name": "stdout",
     "output_type": "stream",
     "text": [
      "HelloHelloHelloHelloHello\n"
     ]
    }
   ],
   "source": [
    "print(first_word * 5)"
   ]
  },
  {
   "cell_type": "code",
   "execution_count": 17,
   "id": "24a22c42",
   "metadata": {},
   "outputs": [
    {
     "name": "stdout",
     "output_type": "stream",
     "text": [
      "5\n"
     ]
    }
   ],
   "source": [
    "print(len(first_word))"
   ]
  },
  {
   "cell_type": "code",
   "execution_count": 18,
   "id": "17b7f60a",
   "metadata": {},
   "outputs": [
    {
     "data": {
      "text/plain": [
       "'H'"
      ]
     },
     "execution_count": 18,
     "metadata": {},
     "output_type": "execute_result"
    }
   ],
   "source": [
    "first_word[0]"
   ]
  },
  {
   "cell_type": "code",
   "execution_count": 20,
   "id": "a1af5417",
   "metadata": {},
   "outputs": [
    {
     "name": "stdout",
     "output_type": "stream",
     "text": [
      "2.5\n"
     ]
    }
   ],
   "source": [
    "print(len('abcde') / len('ab'))"
   ]
  },
  {
   "cell_type": "code",
   "execution_count": 21,
   "id": "60620209",
   "metadata": {},
   "outputs": [
    {
     "name": "stdout",
     "output_type": "stream",
     "text": [
      "3415 \n",
      " <class 'str'>\n"
     ]
    }
   ],
   "source": [
    "coconut_count = \"34\"\n",
    "mango_count = \"15\"\n",
    "tropical_fruit_count = coconut_count + mango_count\n",
    "print(tropical_fruit_count,'\\n', type(tropical_fruit_count))"
   ]
  },
  {
   "cell_type": "code",
   "execution_count": 27,
   "id": "4ae92ed3",
   "metadata": {},
   "outputs": [
    {
     "name": "stdout",
     "output_type": "stream",
     "text": [
      "Kinari accessed the site http://petshop.com/pets/mammals/cats at 04:50.\n",
      "Kinari  accessed the site  http://petshop.com/pets/mammals/cats  at  04:50 .\n",
      "Kinari accessed the site http://petshop.com/pets/mammals/cats at 04:50.\n"
     ]
    }
   ],
   "source": [
    "username = \"Kinari\"\n",
    "timestamp = \"04:50\"\n",
    "url = \"http://petshop.com/pets/mammals/cats\"\n",
    "\n",
    "# TODO: print a log message using the variables above.\n",
    "# The message should have the same format as this one:\n",
    "# \"Yogesh accessed the site http://petshop.com/pets/reptiles/pythons at 16:20.\"\n",
    "print(username+\" accessed the site \"+url+\" at \"+timestamp+\".\")\n",
    "\n",
    "print(username,\" accessed the site \",url,\" at \",timestamp,\".\")\n",
    "\n",
    "print(username,\"accessed the site\",url,\"at\",timestamp+\".\")"
   ]
  },
  {
   "cell_type": "code",
   "execution_count": 28,
   "id": "8edf98ed",
   "metadata": {},
   "outputs": [
    {
     "name": "stdout",
     "output_type": "stream",
     "text": [
      "True\n"
     ]
    }
   ],
   "source": [
    "given_name = \"William\"\n",
    "middle_names = \"Bradley\"\n",
    "family_name = \"Pitt\"\n",
    "\n",
    "name_length = len(given_name+\" \"+middle_names+\" \"+family_name) #todo: calculate how long this name is\n",
    "\n",
    "# Now we check to make sure that the name fits within the driving license character limit\n",
    "# Nothing you need to do here\n",
    "driving_license_character_limit = 28\n",
    "print(name_length <= driving_license_character_limit)"
   ]
  },
  {
   "cell_type": "code",
   "execution_count": 29,
   "id": "ea33e964",
   "metadata": {},
   "outputs": [
    {
     "ename": "TypeError",
     "evalue": "object of type 'int' has no len()",
     "output_type": "error",
     "traceback": [
      "\u001b[0;31m---------------------------------------------------------------------------\u001b[0m",
      "\u001b[0;31mTypeError\u001b[0m                                 Traceback (most recent call last)",
      "\u001b[0;32m/var/folders/hj/8r8y28194blbb0cblvt8bvl80000gp/T/ipykernel_21312/1765310201.py\u001b[0m in \u001b[0;36m<module>\u001b[0;34m\u001b[0m\n\u001b[0;32m----> 1\u001b[0;31m \u001b[0mlen\u001b[0m\u001b[0;34m(\u001b[0m\u001b[0;36m835\u001b[0m\u001b[0;34m)\u001b[0m\u001b[0;34m\u001b[0m\u001b[0;34m\u001b[0m\u001b[0m\n\u001b[0m",
      "\u001b[0;31mTypeError\u001b[0m: object of type 'int' has no len()"
     ]
    }
   ],
   "source": [
    "len(835)"
   ]
  },
  {
   "cell_type": "markdown",
   "id": "45340154",
   "metadata": {},
   "source": [
    "### Type and Type conversion"
   ]
  },
  {
   "cell_type": "code",
   "execution_count": 34,
   "id": "77aabc3d",
   "metadata": {},
   "outputs": [
    {
     "name": "stdout",
     "output_type": "stream",
     "text": [
      "<class 'int'>\n",
      "13 The Crescent, Belmont\n"
     ]
    }
   ],
   "source": [
    "house_number = 13\n",
    "street_name = \"The Crescent\"\n",
    "town_name = \"Belmont\"\n",
    "print(type(house_number)) # <class 'int'=\"\">\n",
    "\n",
    "address = str(house_number) + \" \" + street_name + \", \" + town_name\n",
    "print(address)"
   ]
  },
  {
   "cell_type": "code",
   "execution_count": 35,
   "id": "98a9fd01",
   "metadata": {},
   "outputs": [
    {
     "name": "stdout",
     "output_type": "stream",
     "text": [
      "<class 'int'>\n",
      "<class 'float'>\n",
      "<class 'str'>\n",
      "<class 'bool'>\n"
     ]
    }
   ],
   "source": [
    "print(type(633))\n",
    "\n",
    "print(type(633.0))\n",
    "\n",
    "print(type('633'))\n",
    "\n",
    "print(type(True))"
   ]
  },
  {
   "cell_type": "code",
   "execution_count": 36,
   "id": "3604733e",
   "metadata": {},
   "outputs": [
    {
     "name": "stdout",
     "output_type": "stream",
     "text": [
      "<class 'str'>\n",
      "<class 'float'>\n"
     ]
    }
   ],
   "source": [
    "grams=\"35.0\"\n",
    "print(type(grams))\n",
    "\n",
    "grams=float(grams)\n",
    "print(type(grams))"
   ]
  },
  {
   "cell_type": "code",
   "execution_count": 37,
   "id": "51d51f4e",
   "metadata": {},
   "outputs": [
    {
     "name": "stdout",
     "output_type": "stream",
     "text": [
      "05\n",
      "5\n"
     ]
    },
    {
     "ename": "TypeError",
     "evalue": "can only concatenate str (not \"int\") to str",
     "output_type": "error",
     "traceback": [
      "\u001b[0;31m---------------------------------------------------------------------------\u001b[0m",
      "\u001b[0;31mTypeError\u001b[0m                                 Traceback (most recent call last)",
      "\u001b[0;32m/var/folders/hj/8r8y28194blbb0cblvt8bvl80000gp/T/ipykernel_21312/2435464423.py\u001b[0m in \u001b[0;36m<module>\u001b[0;34m\u001b[0m\n\u001b[1;32m      1\u001b[0m \u001b[0mprint\u001b[0m\u001b[0;34m(\u001b[0m\u001b[0;34m\"0\"\u001b[0m \u001b[0;34m+\u001b[0m \u001b[0;34m\"5\"\u001b[0m\u001b[0;34m)\u001b[0m\u001b[0;34m\u001b[0m\u001b[0;34m\u001b[0m\u001b[0m\n\u001b[1;32m      2\u001b[0m \u001b[0mprint\u001b[0m\u001b[0;34m(\u001b[0m\u001b[0;36m0\u001b[0m \u001b[0;34m+\u001b[0m \u001b[0;36m5\u001b[0m\u001b[0;34m)\u001b[0m\u001b[0;34m\u001b[0m\u001b[0;34m\u001b[0m\u001b[0m\n\u001b[0;32m----> 3\u001b[0;31m \u001b[0mprint\u001b[0m\u001b[0;34m(\u001b[0m\u001b[0;34m\"0\"\u001b[0m \u001b[0;34m+\u001b[0m \u001b[0;36m5\u001b[0m\u001b[0;34m)\u001b[0m\u001b[0;34m\u001b[0m\u001b[0;34m\u001b[0m\u001b[0m\n\u001b[0m\u001b[1;32m      4\u001b[0m \u001b[0mprint\u001b[0m\u001b[0;34m(\u001b[0m\u001b[0;36m0\u001b[0m \u001b[0;34m+\u001b[0m \u001b[0;34m\"5\"\u001b[0m\u001b[0;34m)\u001b[0m\u001b[0;34m\u001b[0m\u001b[0;34m\u001b[0m\u001b[0m\n",
      "\u001b[0;31mTypeError\u001b[0m: can only concatenate str (not \"int\") to str"
     ]
    }
   ],
   "source": [
    "print(\"0\" + \"5\")\n",
    "print(0 + 5)\n",
    "print(\"0\" + 5)\n",
    "print(0 + \"5\")"
   ]
  },
  {
   "cell_type": "code",
   "execution_count": 38,
   "id": "cd3debcf",
   "metadata": {},
   "outputs": [
    {
     "name": "stdout",
     "output_type": "stream",
     "text": [
      "<class 'int'>\n"
     ]
    }
   ],
   "source": [
    "print(type(len(\"my_string\")))"
   ]
  },
  {
   "cell_type": "code",
   "execution_count": 40,
   "id": "cf93f8f3",
   "metadata": {},
   "outputs": [
    {
     "name": "stdout",
     "output_type": "stream",
     "text": [
      "This week's total sales: 529\n",
      "This week's total sales: 529\n"
     ]
    }
   ],
   "source": [
    "mon_sales = \"121\"\n",
    "tues_sales = \"105\"\n",
    "wed_sales = \"110\"\n",
    "thurs_sales = \"98\"\n",
    "fri_sales = \"95\"\n",
    "\n",
    "#TODO: Print a string with this format: This week's total sales: xxx\n",
    "# You will probably need to write some lines of code before the print statement.\n",
    "mon_sales = int(mon_sales)\n",
    "tues_sales = int(tues_sales)\n",
    "wed_sales = int(wed_sales)\n",
    "thurs_sales = int(thurs_sales)\n",
    "fri_sales = int(fri_sales)\n",
    "\n",
    "total_sales = mon_sales + tues_sales + wed_sales + thurs_sales + fri_sales\n",
    "\n",
    "print(\"This week's total sales:\",total_sales)\n",
    "\n",
    "total_sales = str(total_sales)\n",
    "\n",
    "print(\"This week's total sales: \"+total_sales)"
   ]
  },
  {
   "cell_type": "markdown",
   "id": "1d4cb31c",
   "metadata": {},
   "source": [
    "### String Methods"
   ]
  },
  {
   "cell_type": "code",
   "execution_count": 44,
   "id": "5a8bf07e",
   "metadata": {},
   "outputs": [
    {
     "name": "stdout",
     "output_type": "stream",
     "text": [
      "Waseem Akram Syed\n",
      "True\n",
      "False\n"
     ]
    }
   ],
   "source": [
    "print(\"waseem akram syed\".title())\n",
    "full_name = \"waseem akram syed\"\n",
    "print(full_name.islower())\n",
    "print(full_name.title().islower())"
   ]
  },
  {
   "cell_type": "code",
   "execution_count": 45,
   "id": "eed26c65",
   "metadata": {},
   "outputs": [
    {
     "data": {
      "text/plain": [
       "'Waseem akram syed'"
      ]
     },
     "execution_count": 45,
     "metadata": {},
     "output_type": "execute_result"
    }
   ],
   "source": [
    "full_name = \"waseem akram syed\"\n",
    "full_name.capitalize()"
   ]
  },
  {
   "cell_type": "code",
   "execution_count": 47,
   "id": "61e7bdd1",
   "metadata": {},
   "outputs": [
    {
     "data": {
      "text/plain": [
       "'waseem akram syed'"
      ]
     },
     "execution_count": 47,
     "metadata": {},
     "output_type": "execute_result"
    }
   ],
   "source": [
    "full_name = \"Waseem Akram Syed\"\n",
    "full_name.casefold()"
   ]
  },
  {
   "cell_type": "code",
   "execution_count": 51,
   "id": "f689bd0e",
   "metadata": {},
   "outputs": [
    {
     "data": {
      "text/plain": [
       "'######Waseem Akram Syed#######'"
      ]
     },
     "execution_count": 51,
     "metadata": {},
     "output_type": "execute_result"
    }
   ],
   "source": [
    "full_name = \"Waseem Akram Syed\"\n",
    "full_name.center(30,'#')"
   ]
  },
  {
   "cell_type": "code",
   "execution_count": 54,
   "id": "c0b929a1",
   "metadata": {},
   "outputs": [
    {
     "name": "stdout",
     "output_type": "stream",
     "text": [
      "2\n",
      "3\n"
     ]
    }
   ],
   "source": [
    "full_name = \"Waseem Akram Syed\"\n",
    "print(full_name.count('a'))\n",
    "print(full_name.casefold().count('a'))"
   ]
  },
  {
   "cell_type": "code",
   "execution_count": 55,
   "id": "4de18b82",
   "metadata": {},
   "outputs": [
    {
     "data": {
      "text/plain": [
       "1"
      ]
     },
     "execution_count": 55,
     "metadata": {},
     "output_type": "execute_result"
    }
   ],
   "source": [
    "full_name = \"Waseem Akram Syed\"\n",
    "full_name.find('a')"
   ]
  },
  {
   "cell_type": "code",
   "execution_count": 56,
   "id": "abdae34c",
   "metadata": {},
   "outputs": [
    {
     "name": "stdout",
     "output_type": "stream",
     "text": [
      "Mohammed has 27 balloons\n"
     ]
    }
   ],
   "source": [
    "print(\"Mohammed has {} balloons\".format(27))"
   ]
  },
  {
   "cell_type": "code",
   "execution_count": 57,
   "id": "61b44480",
   "metadata": {},
   "outputs": [
    {
     "name": "stdout",
     "output_type": "stream",
     "text": [
      "Does your dog bite?\n"
     ]
    }
   ],
   "source": [
    "animal = \"dog\"\n",
    "action = \"bite\"\n",
    "print(\"Does your {} {}?\".format(animal, action))"
   ]
  },
  {
   "cell_type": "code",
   "execution_count": 58,
   "id": "adac86dc",
   "metadata": {},
   "outputs": [
    {
     "name": "stdout",
     "output_type": "stream",
     "text": [
      "Maria loves math and statistics\n"
     ]
    }
   ],
   "source": [
    "maria_string = \"Maria loves {} and {}\"\n",
    "print(maria_string.format(\"math\", \"statistics\"))"
   ]
  },
  {
   "cell_type": "markdown",
   "id": "f216dffa",
   "metadata": {},
   "source": [
    "#### Assessing arguments by positions"
   ]
  },
  {
   "cell_type": "code",
   "execution_count": 59,
   "id": "6bd5ad28",
   "metadata": {},
   "outputs": [
    {
     "name": "stdout",
     "output_type": "stream",
     "text": [
      "1. a, b, c\n",
      "2. a, b, c\n",
      "3. c, b, a\n",
      "4. c, b, a\n",
      "5. abracadabra\n"
     ]
    }
   ],
   "source": [
    "print('1. {0}, {1}, {2}'.format('a', 'b', 'c'))\n",
    "\n",
    "print('2. {}, {}, {}'.format('a', 'b', 'c')) # 3.1+ only\n",
    "\n",
    "print('3. {2}, {1}, {0}'.format('a', 'b', 'c'))\n",
    "\n",
    "print('4. {2}, {1}, {0}'.format(*'abc'))      # unpacking argument sequence\n",
    "\n",
    "print('5. {0}{1}{0}'.format('abra', 'cad'))   # arguments' indices can be repeated\n"
   ]
  },
  {
   "cell_type": "markdown",
   "id": "91cf0133",
   "metadata": {},
   "source": [
    "##### More examples : https://docs.python.org/3.6/library/string.html#format-string-syntax"
   ]
  },
  {
   "cell_type": "code",
   "execution_count": 60,
   "id": "8d693573",
   "metadata": {},
   "outputs": [
    {
     "ename": "AttributeError",
     "evalue": "'float' object has no attribute 'islower'",
     "output_type": "error",
     "traceback": [
      "\u001b[0;31m---------------------------------------------------------------------------\u001b[0m",
      "\u001b[0;31mAttributeError\u001b[0m                            Traceback (most recent call last)",
      "\u001b[0;32m/var/folders/hj/8r8y28194blbb0cblvt8bvl80000gp/T/ipykernel_21312/4237464474.py\u001b[0m in \u001b[0;36m<module>\u001b[0;34m\u001b[0m\n\u001b[1;32m      1\u001b[0m \u001b[0;31m# calling string method on float\u001b[0m\u001b[0;34m\u001b[0m\u001b[0;34m\u001b[0m\u001b[0m\n\u001b[0;32m----> 2\u001b[0;31m \u001b[0mprint\u001b[0m\u001b[0;34m(\u001b[0m\u001b[0;36m12.34\u001b[0m\u001b[0;34m.\u001b[0m\u001b[0mislower\u001b[0m\u001b[0;34m(\u001b[0m\u001b[0;34m)\u001b[0m\u001b[0;34m)\u001b[0m\u001b[0;34m\u001b[0m\u001b[0;34m\u001b[0m\u001b[0m\n\u001b[0m",
      "\u001b[0;31mAttributeError\u001b[0m: 'float' object has no attribute 'islower'"
     ]
    }
   ],
   "source": [
    "# calling string method on float\n",
    "print(12.34.islower())"
   ]
  },
  {
   "cell_type": "markdown",
   "id": "10c46300",
   "metadata": {},
   "source": [
    "#### split method"
   ]
  },
  {
   "cell_type": "code",
   "execution_count": 61,
   "id": "67be532f",
   "metadata": {},
   "outputs": [
    {
     "data": {
      "text/plain": [
       "['The', 'cow', 'jumped', 'over', 'the', 'moon.']"
      ]
     },
     "execution_count": 61,
     "metadata": {},
     "output_type": "execute_result"
    }
   ],
   "source": [
    "new_str = \"The cow jumped over the moon.\"\n",
    "new_str.split()"
   ]
  },
  {
   "cell_type": "code",
   "execution_count": 62,
   "id": "b57cec2e",
   "metadata": {},
   "outputs": [
    {
     "data": {
      "text/plain": [
       "['The', 'cow', 'jumped', 'over the moon.']"
      ]
     },
     "execution_count": 62,
     "metadata": {},
     "output_type": "execute_result"
    }
   ],
   "source": [
    "new_str = \"The cow jumped over the moon.\"\n",
    "new_str.split(' ', 3)"
   ]
  },
  {
   "cell_type": "code",
   "execution_count": 63,
   "id": "58fb2a99",
   "metadata": {},
   "outputs": [
    {
     "data": {
      "text/plain": [
       "['The cow jumped over the moon', '']"
      ]
     },
     "execution_count": 63,
     "metadata": {},
     "output_type": "execute_result"
    }
   ],
   "source": [
    "new_str = \"The cow jumped over the moon.\"\n",
    "new_str.split('.')"
   ]
  },
  {
   "cell_type": "code",
   "execution_count": 64,
   "id": "21d3adae",
   "metadata": {},
   "outputs": [
    {
     "data": {
      "text/plain": [
       "['The', 'cow', 'jumped', 'over the moon.']"
      ]
     },
     "execution_count": 64,
     "metadata": {},
     "output_type": "execute_result"
    }
   ],
   "source": [
    "new_str = \"The cow jumped over the moon.\"\n",
    "new_str.split(None, 3)"
   ]
  },
  {
   "cell_type": "markdown",
   "id": "7c77c5fa",
   "metadata": {},
   "source": [
    "### More coding pratice can be done here : \n",
    "### https://www.codewars.com/\n",
    "\n",
    "### https://www.hackerrank.com/domains/python"
   ]
  },
  {
   "cell_type": "code",
   "execution_count": null,
   "id": "6af87b04",
   "metadata": {},
   "outputs": [],
   "source": []
  }
 ],
 "metadata": {
  "kernelspec": {
   "display_name": "Python 3 (ipykernel)",
   "language": "python",
   "name": "python3"
  },
  "language_info": {
   "codemirror_mode": {
    "name": "ipython",
    "version": 3
   },
   "file_extension": ".py",
   "mimetype": "text/x-python",
   "name": "python",
   "nbconvert_exporter": "python",
   "pygments_lexer": "ipython3",
   "version": "3.9.13"
  }
 },
 "nbformat": 4,
 "nbformat_minor": 5
}
